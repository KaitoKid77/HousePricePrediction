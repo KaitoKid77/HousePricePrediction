{
  "metadata": {
    "kernelspec": {
      "display_name": "Python 3",
      "name": "python3"
    },
    "language_info": {
      "name": "python",
      "version": "3.7.12",
      "mimetype": "text/x-python",
      "codemirror_mode": {
        "name": "ipython",
        "version": 3
      },
      "pygments_lexer": "ipython3",
      "nbconvert_exporter": "python",
      "file_extension": ".py"
    },
    "colab": {
      "provenance": [],
      "gpuType": "T4"
    },
    "accelerator": "GPU"
  },
  "nbformat_minor": 0,
  "nbformat": 4,
  "cells": [
    {
      "cell_type": "markdown",
      "source": [
        "# House Prices Prediction using TensorFlow Decision Forests"
      ],
      "metadata": {
        "id": "5v5mm4amQRrm",
        "papermill": {
          "duration": 0.010092,
          "end_time": "2023-03-07T06:21:39.774967",
          "exception": false,
          "start_time": "2023-03-07T06:21:39.764875",
          "status": "completed"
        },
        "tags": []
      }
    },
    {
      "cell_type": "markdown",
      "source": [
        "Training a baseline Random Forest modelusing TensorFlow Decision Forests on the House Prices dataset.\n",
        "\n",
        "```\n",
        "import tensorflow_decision_forests as tfdf\n",
        "import pandas as pd\n",
        "\n",
        "dataset = pd.read_csv(\"project/dataset.csv\")\n",
        "tf_dataset = tfdf.keras.pd_dataframe_to_tf_dataset(dataset, label=\"my_label\")\n",
        "\n",
        "model = tfdf.keras.RandomForestModel()\n",
        "model.fit(tf_dataset)\n",
        "\n",
        "print(model.summary())\n",
        "```\n",
        "\n",
        "Decision Forests are a family of tree-based models including Random Forests and Gradient Boosted Trees. They are the best place to start when working with tabular data, and will often outperform (or provide a strong baseline) before experimenting with neural networks."
      ],
      "metadata": {
        "id": "Z4eo3rH_MKbC",
        "papermill": {
          "duration": 0.00862,
          "end_time": "2023-03-07T06:21:39.792607",
          "exception": false,
          "start_time": "2023-03-07T06:21:39.783987",
          "status": "completed"
        },
        "tags": []
      }
    },
    {
      "cell_type": "markdown",
      "source": [
        "## Import the library"
      ],
      "metadata": {
        "id": "FVOXAyXl3-fA",
        "papermill": {
          "duration": 0.008317,
          "end_time": "2023-03-07T06:21:39.809564",
          "exception": false,
          "start_time": "2023-03-07T06:21:39.801247",
          "status": "completed"
        },
        "tags": []
      }
    },
    {
      "cell_type": "code",
      "source": [
        "!pip install tensorflow\n",
        "!pip install tensorflow_decision_forests\n",
        "import tensorflow as tf\n",
        "import tensorflow_decision_forests as tfdf\n",
        "import pandas as pd\n",
        "import seaborn as sns\n",
        "import matplotlib.pyplot as plt\n",
        "\n",
        "# Comment this if the data visualisations doesn't work on your side\n",
        "%matplotlib inline"
      ],
      "metadata": {
        "id": "IGmyjJJatzBZ",
        "papermill": {
          "duration": 8.300496,
          "end_time": "2023-03-07T06:21:48.118668",
          "exception": false,
          "start_time": "2023-03-07T06:21:39.818172",
          "status": "completed"
        },
        "tags": [],
        "execution": {
          "iopub.status.busy": "2023-04-03T10:16:35.894614Z",
          "iopub.execute_input": "2023-04-03T10:16:35.895973Z",
          "iopub.status.idle": "2023-04-03T10:16:47.883856Z",
          "shell.execute_reply.started": "2023-04-03T10:16:35.895917Z",
          "shell.execute_reply": "2023-04-03T10:16:47.882286Z"
        },
        "trusted": true,
        "colab": {
          "base_uri": "https://localhost:8080/"
        },
        "outputId": "04616e01-91a3-40e3-ac00-0ee85033d2d9"
      },
      "execution_count": 1,
      "outputs": [
        {
          "output_type": "stream",
          "name": "stdout",
          "text": [
            "Requirement already satisfied: tensorflow in /usr/local/lib/python3.10/dist-packages (2.12.0)\n",
            "Requirement already satisfied: absl-py>=1.0.0 in /usr/local/lib/python3.10/dist-packages (from tensorflow) (1.4.0)\n",
            "Requirement already satisfied: astunparse>=1.6.0 in /usr/local/lib/python3.10/dist-packages (from tensorflow) (1.6.3)\n",
            "Requirement already satisfied: flatbuffers>=2.0 in /usr/local/lib/python3.10/dist-packages (from tensorflow) (23.5.26)\n",
            "Requirement already satisfied: gast<=0.4.0,>=0.2.1 in /usr/local/lib/python3.10/dist-packages (from tensorflow) (0.4.0)\n",
            "Requirement already satisfied: google-pasta>=0.1.1 in /usr/local/lib/python3.10/dist-packages (from tensorflow) (0.2.0)\n",
            "Requirement already satisfied: grpcio<2.0,>=1.24.3 in /usr/local/lib/python3.10/dist-packages (from tensorflow) (1.56.0)\n",
            "Requirement already satisfied: h5py>=2.9.0 in /usr/local/lib/python3.10/dist-packages (from tensorflow) (3.8.0)\n",
            "Requirement already satisfied: jax>=0.3.15 in /usr/local/lib/python3.10/dist-packages (from tensorflow) (0.4.10)\n",
            "Requirement already satisfied: keras<2.13,>=2.12.0 in /usr/local/lib/python3.10/dist-packages (from tensorflow) (2.12.0)\n",
            "Requirement already satisfied: libclang>=13.0.0 in /usr/local/lib/python3.10/dist-packages (from tensorflow) (16.0.0)\n",
            "Requirement already satisfied: numpy<1.24,>=1.22 in /usr/local/lib/python3.10/dist-packages (from tensorflow) (1.22.4)\n",
            "Requirement already satisfied: opt-einsum>=2.3.2 in /usr/local/lib/python3.10/dist-packages (from tensorflow) (3.3.0)\n",
            "Requirement already satisfied: packaging in /usr/local/lib/python3.10/dist-packages (from tensorflow) (23.1)\n",
            "Requirement already satisfied: protobuf!=4.21.0,!=4.21.1,!=4.21.2,!=4.21.3,!=4.21.4,!=4.21.5,<5.0.0dev,>=3.20.3 in /usr/local/lib/python3.10/dist-packages (from tensorflow) (3.20.3)\n",
            "Requirement already satisfied: setuptools in /usr/local/lib/python3.10/dist-packages (from tensorflow) (67.7.2)\n",
            "Requirement already satisfied: six>=1.12.0 in /usr/local/lib/python3.10/dist-packages (from tensorflow) (1.16.0)\n",
            "Requirement already satisfied: tensorboard<2.13,>=2.12 in /usr/local/lib/python3.10/dist-packages (from tensorflow) (2.12.3)\n",
            "Requirement already satisfied: tensorflow-estimator<2.13,>=2.12.0 in /usr/local/lib/python3.10/dist-packages (from tensorflow) (2.12.0)\n",
            "Requirement already satisfied: termcolor>=1.1.0 in /usr/local/lib/python3.10/dist-packages (from tensorflow) (2.3.0)\n",
            "Requirement already satisfied: typing-extensions>=3.6.6 in /usr/local/lib/python3.10/dist-packages (from tensorflow) (4.6.3)\n",
            "Requirement already satisfied: wrapt<1.15,>=1.11.0 in /usr/local/lib/python3.10/dist-packages (from tensorflow) (1.14.1)\n",
            "Requirement already satisfied: tensorflow-io-gcs-filesystem>=0.23.1 in /usr/local/lib/python3.10/dist-packages (from tensorflow) (0.32.0)\n",
            "Requirement already satisfied: wheel<1.0,>=0.23.0 in /usr/local/lib/python3.10/dist-packages (from astunparse>=1.6.0->tensorflow) (0.40.0)\n",
            "Requirement already satisfied: ml-dtypes>=0.1.0 in /usr/local/lib/python3.10/dist-packages (from jax>=0.3.15->tensorflow) (0.2.0)\n",
            "Requirement already satisfied: scipy>=1.7 in /usr/local/lib/python3.10/dist-packages (from jax>=0.3.15->tensorflow) (1.10.1)\n",
            "Requirement already satisfied: google-auth<3,>=1.6.3 in /usr/local/lib/python3.10/dist-packages (from tensorboard<2.13,>=2.12->tensorflow) (2.17.3)\n",
            "Requirement already satisfied: google-auth-oauthlib<1.1,>=0.5 in /usr/local/lib/python3.10/dist-packages (from tensorboard<2.13,>=2.12->tensorflow) (1.0.0)\n",
            "Requirement already satisfied: markdown>=2.6.8 in /usr/local/lib/python3.10/dist-packages (from tensorboard<2.13,>=2.12->tensorflow) (3.4.3)\n",
            "Requirement already satisfied: requests<3,>=2.21.0 in /usr/local/lib/python3.10/dist-packages (from tensorboard<2.13,>=2.12->tensorflow) (2.27.1)\n",
            "Requirement already satisfied: tensorboard-data-server<0.8.0,>=0.7.0 in /usr/local/lib/python3.10/dist-packages (from tensorboard<2.13,>=2.12->tensorflow) (0.7.1)\n",
            "Requirement already satisfied: werkzeug>=1.0.1 in /usr/local/lib/python3.10/dist-packages (from tensorboard<2.13,>=2.12->tensorflow) (2.3.6)\n",
            "Requirement already satisfied: cachetools<6.0,>=2.0.0 in /usr/local/lib/python3.10/dist-packages (from google-auth<3,>=1.6.3->tensorboard<2.13,>=2.12->tensorflow) (5.3.1)\n",
            "Requirement already satisfied: pyasn1-modules>=0.2.1 in /usr/local/lib/python3.10/dist-packages (from google-auth<3,>=1.6.3->tensorboard<2.13,>=2.12->tensorflow) (0.3.0)\n",
            "Requirement already satisfied: rsa<5,>=3.1.4 in /usr/local/lib/python3.10/dist-packages (from google-auth<3,>=1.6.3->tensorboard<2.13,>=2.12->tensorflow) (4.9)\n",
            "Requirement already satisfied: requests-oauthlib>=0.7.0 in /usr/local/lib/python3.10/dist-packages (from google-auth-oauthlib<1.1,>=0.5->tensorboard<2.13,>=2.12->tensorflow) (1.3.1)\n",
            "Requirement already satisfied: urllib3<1.27,>=1.21.1 in /usr/local/lib/python3.10/dist-packages (from requests<3,>=2.21.0->tensorboard<2.13,>=2.12->tensorflow) (1.26.16)\n",
            "Requirement already satisfied: certifi>=2017.4.17 in /usr/local/lib/python3.10/dist-packages (from requests<3,>=2.21.0->tensorboard<2.13,>=2.12->tensorflow) (2023.5.7)\n",
            "Requirement already satisfied: charset-normalizer~=2.0.0 in /usr/local/lib/python3.10/dist-packages (from requests<3,>=2.21.0->tensorboard<2.13,>=2.12->tensorflow) (2.0.12)\n",
            "Requirement already satisfied: idna<4,>=2.5 in /usr/local/lib/python3.10/dist-packages (from requests<3,>=2.21.0->tensorboard<2.13,>=2.12->tensorflow) (3.4)\n",
            "Requirement already satisfied: MarkupSafe>=2.1.1 in /usr/local/lib/python3.10/dist-packages (from werkzeug>=1.0.1->tensorboard<2.13,>=2.12->tensorflow) (2.1.3)\n",
            "Requirement already satisfied: pyasn1<0.6.0,>=0.4.6 in /usr/local/lib/python3.10/dist-packages (from pyasn1-modules>=0.2.1->google-auth<3,>=1.6.3->tensorboard<2.13,>=2.12->tensorflow) (0.5.0)\n",
            "Requirement already satisfied: oauthlib>=3.0.0 in /usr/local/lib/python3.10/dist-packages (from requests-oauthlib>=0.7.0->google-auth-oauthlib<1.1,>=0.5->tensorboard<2.13,>=2.12->tensorflow) (3.2.2)\n",
            "Collecting tensorflow_decision_forests\n",
            "  Downloading tensorflow_decision_forests-1.3.0-cp310-cp310-manylinux_2_17_x86_64.manylinux2014_x86_64.whl (16.4 MB)\n",
            "\u001b[2K     \u001b[90m━━━━━━━━━━━━━━━━━━━━━━━━━━━━━━━━━━━━━━━━\u001b[0m \u001b[32m16.4/16.4 MB\u001b[0m \u001b[31m47.0 MB/s\u001b[0m eta \u001b[36m0:00:00\u001b[0m\n",
            "\u001b[?25hRequirement already satisfied: numpy in /usr/local/lib/python3.10/dist-packages (from tensorflow_decision_forests) (1.22.4)\n",
            "Requirement already satisfied: pandas in /usr/local/lib/python3.10/dist-packages (from tensorflow_decision_forests) (1.5.3)\n",
            "Requirement already satisfied: tensorflow~=2.12.0 in /usr/local/lib/python3.10/dist-packages (from tensorflow_decision_forests) (2.12.0)\n",
            "Requirement already satisfied: six in /usr/local/lib/python3.10/dist-packages (from tensorflow_decision_forests) (1.16.0)\n",
            "Requirement already satisfied: absl-py in /usr/local/lib/python3.10/dist-packages (from tensorflow_decision_forests) (1.4.0)\n",
            "Requirement already satisfied: wheel in /usr/local/lib/python3.10/dist-packages (from tensorflow_decision_forests) (0.40.0)\n",
            "Collecting wurlitzer (from tensorflow_decision_forests)\n",
            "  Downloading wurlitzer-3.0.3-py3-none-any.whl (7.3 kB)\n",
            "Requirement already satisfied: astunparse>=1.6.0 in /usr/local/lib/python3.10/dist-packages (from tensorflow~=2.12.0->tensorflow_decision_forests) (1.6.3)\n",
            "Requirement already satisfied: flatbuffers>=2.0 in /usr/local/lib/python3.10/dist-packages (from tensorflow~=2.12.0->tensorflow_decision_forests) (23.5.26)\n",
            "Requirement already satisfied: gast<=0.4.0,>=0.2.1 in /usr/local/lib/python3.10/dist-packages (from tensorflow~=2.12.0->tensorflow_decision_forests) (0.4.0)\n",
            "Requirement already satisfied: google-pasta>=0.1.1 in /usr/local/lib/python3.10/dist-packages (from tensorflow~=2.12.0->tensorflow_decision_forests) (0.2.0)\n",
            "Requirement already satisfied: grpcio<2.0,>=1.24.3 in /usr/local/lib/python3.10/dist-packages (from tensorflow~=2.12.0->tensorflow_decision_forests) (1.56.0)\n",
            "Requirement already satisfied: h5py>=2.9.0 in /usr/local/lib/python3.10/dist-packages (from tensorflow~=2.12.0->tensorflow_decision_forests) (3.8.0)\n",
            "Requirement already satisfied: jax>=0.3.15 in /usr/local/lib/python3.10/dist-packages (from tensorflow~=2.12.0->tensorflow_decision_forests) (0.4.10)\n",
            "Requirement already satisfied: keras<2.13,>=2.12.0 in /usr/local/lib/python3.10/dist-packages (from tensorflow~=2.12.0->tensorflow_decision_forests) (2.12.0)\n",
            "Requirement already satisfied: libclang>=13.0.0 in /usr/local/lib/python3.10/dist-packages (from tensorflow~=2.12.0->tensorflow_decision_forests) (16.0.0)\n",
            "Requirement already satisfied: opt-einsum>=2.3.2 in /usr/local/lib/python3.10/dist-packages (from tensorflow~=2.12.0->tensorflow_decision_forests) (3.3.0)\n",
            "Requirement already satisfied: packaging in /usr/local/lib/python3.10/dist-packages (from tensorflow~=2.12.0->tensorflow_decision_forests) (23.1)\n",
            "Requirement already satisfied: protobuf!=4.21.0,!=4.21.1,!=4.21.2,!=4.21.3,!=4.21.4,!=4.21.5,<5.0.0dev,>=3.20.3 in /usr/local/lib/python3.10/dist-packages (from tensorflow~=2.12.0->tensorflow_decision_forests) (3.20.3)\n",
            "Requirement already satisfied: setuptools in /usr/local/lib/python3.10/dist-packages (from tensorflow~=2.12.0->tensorflow_decision_forests) (67.7.2)\n",
            "Requirement already satisfied: tensorboard<2.13,>=2.12 in /usr/local/lib/python3.10/dist-packages (from tensorflow~=2.12.0->tensorflow_decision_forests) (2.12.3)\n",
            "Requirement already satisfied: tensorflow-estimator<2.13,>=2.12.0 in /usr/local/lib/python3.10/dist-packages (from tensorflow~=2.12.0->tensorflow_decision_forests) (2.12.0)\n",
            "Requirement already satisfied: termcolor>=1.1.0 in /usr/local/lib/python3.10/dist-packages (from tensorflow~=2.12.0->tensorflow_decision_forests) (2.3.0)\n",
            "Requirement already satisfied: typing-extensions>=3.6.6 in /usr/local/lib/python3.10/dist-packages (from tensorflow~=2.12.0->tensorflow_decision_forests) (4.6.3)\n",
            "Requirement already satisfied: wrapt<1.15,>=1.11.0 in /usr/local/lib/python3.10/dist-packages (from tensorflow~=2.12.0->tensorflow_decision_forests) (1.14.1)\n",
            "Requirement already satisfied: tensorflow-io-gcs-filesystem>=0.23.1 in /usr/local/lib/python3.10/dist-packages (from tensorflow~=2.12.0->tensorflow_decision_forests) (0.32.0)\n",
            "Requirement already satisfied: python-dateutil>=2.8.1 in /usr/local/lib/python3.10/dist-packages (from pandas->tensorflow_decision_forests) (2.8.2)\n",
            "Requirement already satisfied: pytz>=2020.1 in /usr/local/lib/python3.10/dist-packages (from pandas->tensorflow_decision_forests) (2022.7.1)\n",
            "Requirement already satisfied: ml-dtypes>=0.1.0 in /usr/local/lib/python3.10/dist-packages (from jax>=0.3.15->tensorflow~=2.12.0->tensorflow_decision_forests) (0.2.0)\n",
            "Requirement already satisfied: scipy>=1.7 in /usr/local/lib/python3.10/dist-packages (from jax>=0.3.15->tensorflow~=2.12.0->tensorflow_decision_forests) (1.10.1)\n",
            "Requirement already satisfied: google-auth<3,>=1.6.3 in /usr/local/lib/python3.10/dist-packages (from tensorboard<2.13,>=2.12->tensorflow~=2.12.0->tensorflow_decision_forests) (2.17.3)\n",
            "Requirement already satisfied: google-auth-oauthlib<1.1,>=0.5 in /usr/local/lib/python3.10/dist-packages (from tensorboard<2.13,>=2.12->tensorflow~=2.12.0->tensorflow_decision_forests) (1.0.0)\n",
            "Requirement already satisfied: markdown>=2.6.8 in /usr/local/lib/python3.10/dist-packages (from tensorboard<2.13,>=2.12->tensorflow~=2.12.0->tensorflow_decision_forests) (3.4.3)\n",
            "Requirement already satisfied: requests<3,>=2.21.0 in /usr/local/lib/python3.10/dist-packages (from tensorboard<2.13,>=2.12->tensorflow~=2.12.0->tensorflow_decision_forests) (2.27.1)\n",
            "Requirement already satisfied: tensorboard-data-server<0.8.0,>=0.7.0 in /usr/local/lib/python3.10/dist-packages (from tensorboard<2.13,>=2.12->tensorflow~=2.12.0->tensorflow_decision_forests) (0.7.1)\n",
            "Requirement already satisfied: werkzeug>=1.0.1 in /usr/local/lib/python3.10/dist-packages (from tensorboard<2.13,>=2.12->tensorflow~=2.12.0->tensorflow_decision_forests) (2.3.6)\n",
            "Requirement already satisfied: cachetools<6.0,>=2.0.0 in /usr/local/lib/python3.10/dist-packages (from google-auth<3,>=1.6.3->tensorboard<2.13,>=2.12->tensorflow~=2.12.0->tensorflow_decision_forests) (5.3.1)\n",
            "Requirement already satisfied: pyasn1-modules>=0.2.1 in /usr/local/lib/python3.10/dist-packages (from google-auth<3,>=1.6.3->tensorboard<2.13,>=2.12->tensorflow~=2.12.0->tensorflow_decision_forests) (0.3.0)\n",
            "Requirement already satisfied: rsa<5,>=3.1.4 in /usr/local/lib/python3.10/dist-packages (from google-auth<3,>=1.6.3->tensorboard<2.13,>=2.12->tensorflow~=2.12.0->tensorflow_decision_forests) (4.9)\n",
            "Requirement already satisfied: requests-oauthlib>=0.7.0 in /usr/local/lib/python3.10/dist-packages (from google-auth-oauthlib<1.1,>=0.5->tensorboard<2.13,>=2.12->tensorflow~=2.12.0->tensorflow_decision_forests) (1.3.1)\n",
            "Requirement already satisfied: urllib3<1.27,>=1.21.1 in /usr/local/lib/python3.10/dist-packages (from requests<3,>=2.21.0->tensorboard<2.13,>=2.12->tensorflow~=2.12.0->tensorflow_decision_forests) (1.26.16)\n",
            "Requirement already satisfied: certifi>=2017.4.17 in /usr/local/lib/python3.10/dist-packages (from requests<3,>=2.21.0->tensorboard<2.13,>=2.12->tensorflow~=2.12.0->tensorflow_decision_forests) (2023.5.7)\n",
            "Requirement already satisfied: charset-normalizer~=2.0.0 in /usr/local/lib/python3.10/dist-packages (from requests<3,>=2.21.0->tensorboard<2.13,>=2.12->tensorflow~=2.12.0->tensorflow_decision_forests) (2.0.12)\n",
            "Requirement already satisfied: idna<4,>=2.5 in /usr/local/lib/python3.10/dist-packages (from requests<3,>=2.21.0->tensorboard<2.13,>=2.12->tensorflow~=2.12.0->tensorflow_decision_forests) (3.4)\n",
            "Requirement already satisfied: MarkupSafe>=2.1.1 in /usr/local/lib/python3.10/dist-packages (from werkzeug>=1.0.1->tensorboard<2.13,>=2.12->tensorflow~=2.12.0->tensorflow_decision_forests) (2.1.3)\n",
            "Requirement already satisfied: pyasn1<0.6.0,>=0.4.6 in /usr/local/lib/python3.10/dist-packages (from pyasn1-modules>=0.2.1->google-auth<3,>=1.6.3->tensorboard<2.13,>=2.12->tensorflow~=2.12.0->tensorflow_decision_forests) (0.5.0)\n",
            "Requirement already satisfied: oauthlib>=3.0.0 in /usr/local/lib/python3.10/dist-packages (from requests-oauthlib>=0.7.0->google-auth-oauthlib<1.1,>=0.5->tensorboard<2.13,>=2.12->tensorflow~=2.12.0->tensorflow_decision_forests) (3.2.2)\n",
            "Installing collected packages: wurlitzer, tensorflow_decision_forests\n",
            "Successfully installed tensorflow_decision_forests-1.3.0 wurlitzer-3.0.3\n"
          ]
        }
      ]
    },
    {
      "cell_type": "code",
      "source": [
        "print(\"TensorFlow v\" + tf.__version__)\n",
        "print(\"TensorFlow Decision Forests v\" + tfdf.__version__)"
      ],
      "metadata": {
        "id": "dh4qwB4iN7Ue",
        "papermill": {
          "duration": 0.019012,
          "end_time": "2023-03-07T06:21:48.149058",
          "exception": false,
          "start_time": "2023-03-07T06:21:48.130046",
          "status": "completed"
        },
        "tags": [],
        "execution": {
          "iopub.status.busy": "2023-04-03T10:16:47.887389Z",
          "iopub.execute_input": "2023-04-03T10:16:47.888401Z",
          "iopub.status.idle": "2023-04-03T10:16:47.895846Z",
          "shell.execute_reply.started": "2023-04-03T10:16:47.888314Z",
          "shell.execute_reply": "2023-04-03T10:16:47.894430Z"
        },
        "trusted": true,
        "colab": {
          "base_uri": "https://localhost:8080/"
        },
        "outputId": "10b9a6a5-af2c-4be1-e928-310ad3fd64c7"
      },
      "execution_count": 2,
      "outputs": [
        {
          "output_type": "stream",
          "name": "stdout",
          "text": [
            "TensorFlow v2.12.0\n",
            "TensorFlow Decision Forests v1.3.0\n"
          ]
        }
      ]
    },
    {
      "cell_type": "markdown",
      "source": [
        "## Load the dataset\n"
      ],
      "metadata": {
        "id": "-3vxMmCPvqpf",
        "papermill": {
          "duration": 0.009922,
          "end_time": "2023-03-07T06:21:48.169450",
          "exception": false,
          "start_time": "2023-03-07T06:21:48.159528",
          "status": "completed"
        },
        "tags": []
      }
    },
    {
      "cell_type": "code",
      "source": [
        "train_file_path = \"input/train.csv\"\n",
        "dataset_df = pd.read_csv(train_file_path)\n",
        "print(\"Full train dataset shape is {}\".format(dataset_df.shape))"
      ],
      "metadata": {
        "id": "JVMPH_IDOBH2",
        "papermill": {
          "duration": 0.066785,
          "end_time": "2023-03-07T06:21:48.245226",
          "exception": false,
          "start_time": "2023-03-07T06:21:48.178441",
          "status": "completed"
        },
        "tags": [],
        "execution": {
          "iopub.status.busy": "2023-04-03T10:16:47.908792Z",
          "iopub.execute_input": "2023-04-03T10:16:47.909243Z",
          "iopub.status.idle": "2023-04-03T10:16:47.953669Z",
          "shell.execute_reply.started": "2023-04-03T10:16:47.909192Z",
          "shell.execute_reply": "2023-04-03T10:16:47.952207Z"
        },
        "trusted": true,
        "colab": {
          "base_uri": "https://localhost:8080/"
        },
        "outputId": "18713488-37db-4158-b3c1-eb5abbabd6aa"
      },
      "execution_count": 3,
      "outputs": [
        {
          "output_type": "stream",
          "name": "stdout",
          "text": [
            "Full train dataset shape is (1460, 81)\n"
          ]
        }
      ]
    },
    {
      "cell_type": "markdown",
      "source": [
        "The data is composed of 81 columns and 1460 entries. We can see all 81 dimensions of our dataset by printing out the first 3 entries using the following code:"
      ],
      "metadata": {
        "papermill": {
          "duration": 0.008651,
          "end_time": "2023-03-07T06:21:48.263024",
          "exception": false,
          "start_time": "2023-03-07T06:21:48.254373",
          "status": "completed"
        },
        "tags": [],
        "id": "mTnx8h9i416m"
      }
    },
    {
      "cell_type": "code",
      "source": [
        "dataset_df.head(3)"
      ],
      "metadata": {
        "papermill": {
          "duration": 0.049873,
          "end_time": "2023-03-07T06:21:48.321938",
          "exception": false,
          "start_time": "2023-03-07T06:21:48.272065",
          "status": "completed"
        },
        "tags": [],
        "id": "kgbP5R6X416m",
        "execution": {
          "iopub.status.busy": "2023-04-03T10:16:47.955334Z",
          "iopub.execute_input": "2023-04-03T10:16:47.955731Z",
          "iopub.status.idle": "2023-04-03T10:16:48.006911Z",
          "shell.execute_reply.started": "2023-04-03T10:16:47.955692Z",
          "shell.execute_reply": "2023-04-03T10:16:48.005598Z"
        },
        "trusted": true,
        "colab": {
          "base_uri": "https://localhost:8080/",
          "height": 237
        },
        "outputId": "79463b86-40c5-4f5c-b1a0-937853a317bf"
      },
      "execution_count": 4,
      "outputs": [
        {
          "output_type": "execute_result",
          "data": {
            "text/plain": [
              "   Id  MSSubClass MSZoning  LotFrontage  LotArea Street Alley LotShape  \\\n",
              "0   1          60       RL         65.0     8450   Pave   NaN      Reg   \n",
              "1   2          20       RL         80.0     9600   Pave   NaN      Reg   \n",
              "2   3          60       RL         68.0    11250   Pave   NaN      IR1   \n",
              "\n",
              "  LandContour Utilities  ... PoolArea PoolQC Fence MiscFeature MiscVal MoSold  \\\n",
              "0         Lvl    AllPub  ...        0    NaN   NaN         NaN       0      2   \n",
              "1         Lvl    AllPub  ...        0    NaN   NaN         NaN       0      5   \n",
              "2         Lvl    AllPub  ...        0    NaN   NaN         NaN       0      9   \n",
              "\n",
              "  YrSold  SaleType  SaleCondition  SalePrice  \n",
              "0   2008        WD         Normal     208500  \n",
              "1   2007        WD         Normal     181500  \n",
              "2   2008        WD         Normal     223500  \n",
              "\n",
              "[3 rows x 81 columns]"
            ],
            "text/html": [
              "\n",
              "  <div id=\"df-8a5f4da8-cb41-40f4-aa22-9272f947cd57\">\n",
              "    <div class=\"colab-df-container\">\n",
              "      <div>\n",
              "<style scoped>\n",
              "    .dataframe tbody tr th:only-of-type {\n",
              "        vertical-align: middle;\n",
              "    }\n",
              "\n",
              "    .dataframe tbody tr th {\n",
              "        vertical-align: top;\n",
              "    }\n",
              "\n",
              "    .dataframe thead th {\n",
              "        text-align: right;\n",
              "    }\n",
              "</style>\n",
              "<table border=\"1\" class=\"dataframe\">\n",
              "  <thead>\n",
              "    <tr style=\"text-align: right;\">\n",
              "      <th></th>\n",
              "      <th>Id</th>\n",
              "      <th>MSSubClass</th>\n",
              "      <th>MSZoning</th>\n",
              "      <th>LotFrontage</th>\n",
              "      <th>LotArea</th>\n",
              "      <th>Street</th>\n",
              "      <th>Alley</th>\n",
              "      <th>LotShape</th>\n",
              "      <th>LandContour</th>\n",
              "      <th>Utilities</th>\n",
              "      <th>...</th>\n",
              "      <th>PoolArea</th>\n",
              "      <th>PoolQC</th>\n",
              "      <th>Fence</th>\n",
              "      <th>MiscFeature</th>\n",
              "      <th>MiscVal</th>\n",
              "      <th>MoSold</th>\n",
              "      <th>YrSold</th>\n",
              "      <th>SaleType</th>\n",
              "      <th>SaleCondition</th>\n",
              "      <th>SalePrice</th>\n",
              "    </tr>\n",
              "  </thead>\n",
              "  <tbody>\n",
              "    <tr>\n",
              "      <th>0</th>\n",
              "      <td>1</td>\n",
              "      <td>60</td>\n",
              "      <td>RL</td>\n",
              "      <td>65.0</td>\n",
              "      <td>8450</td>\n",
              "      <td>Pave</td>\n",
              "      <td>NaN</td>\n",
              "      <td>Reg</td>\n",
              "      <td>Lvl</td>\n",
              "      <td>AllPub</td>\n",
              "      <td>...</td>\n",
              "      <td>0</td>\n",
              "      <td>NaN</td>\n",
              "      <td>NaN</td>\n",
              "      <td>NaN</td>\n",
              "      <td>0</td>\n",
              "      <td>2</td>\n",
              "      <td>2008</td>\n",
              "      <td>WD</td>\n",
              "      <td>Normal</td>\n",
              "      <td>208500</td>\n",
              "    </tr>\n",
              "    <tr>\n",
              "      <th>1</th>\n",
              "      <td>2</td>\n",
              "      <td>20</td>\n",
              "      <td>RL</td>\n",
              "      <td>80.0</td>\n",
              "      <td>9600</td>\n",
              "      <td>Pave</td>\n",
              "      <td>NaN</td>\n",
              "      <td>Reg</td>\n",
              "      <td>Lvl</td>\n",
              "      <td>AllPub</td>\n",
              "      <td>...</td>\n",
              "      <td>0</td>\n",
              "      <td>NaN</td>\n",
              "      <td>NaN</td>\n",
              "      <td>NaN</td>\n",
              "      <td>0</td>\n",
              "      <td>5</td>\n",
              "      <td>2007</td>\n",
              "      <td>WD</td>\n",
              "      <td>Normal</td>\n",
              "      <td>181500</td>\n",
              "    </tr>\n",
              "    <tr>\n",
              "      <th>2</th>\n",
              "      <td>3</td>\n",
              "      <td>60</td>\n",
              "      <td>RL</td>\n",
              "      <td>68.0</td>\n",
              "      <td>11250</td>\n",
              "      <td>Pave</td>\n",
              "      <td>NaN</td>\n",
              "      <td>IR1</td>\n",
              "      <td>Lvl</td>\n",
              "      <td>AllPub</td>\n",
              "      <td>...</td>\n",
              "      <td>0</td>\n",
              "      <td>NaN</td>\n",
              "      <td>NaN</td>\n",
              "      <td>NaN</td>\n",
              "      <td>0</td>\n",
              "      <td>9</td>\n",
              "      <td>2008</td>\n",
              "      <td>WD</td>\n",
              "      <td>Normal</td>\n",
              "      <td>223500</td>\n",
              "    </tr>\n",
              "  </tbody>\n",
              "</table>\n",
              "<p>3 rows × 81 columns</p>\n",
              "</div>\n",
              "      <button class=\"colab-df-convert\" onclick=\"convertToInteractive('df-8a5f4da8-cb41-40f4-aa22-9272f947cd57')\"\n",
              "              title=\"Convert this dataframe to an interactive table.\"\n",
              "              style=\"display:none;\">\n",
              "        \n",
              "  <svg xmlns=\"http://www.w3.org/2000/svg\" height=\"24px\"viewBox=\"0 0 24 24\"\n",
              "       width=\"24px\">\n",
              "    <path d=\"M0 0h24v24H0V0z\" fill=\"none\"/>\n",
              "    <path d=\"M18.56 5.44l.94 2.06.94-2.06 2.06-.94-2.06-.94-.94-2.06-.94 2.06-2.06.94zm-11 1L8.5 8.5l.94-2.06 2.06-.94-2.06-.94L8.5 2.5l-.94 2.06-2.06.94zm10 10l.94 2.06.94-2.06 2.06-.94-2.06-.94-.94-2.06-.94 2.06-2.06.94z\"/><path d=\"M17.41 7.96l-1.37-1.37c-.4-.4-.92-.59-1.43-.59-.52 0-1.04.2-1.43.59L10.3 9.45l-7.72 7.72c-.78.78-.78 2.05 0 2.83L4 21.41c.39.39.9.59 1.41.59.51 0 1.02-.2 1.41-.59l7.78-7.78 2.81-2.81c.8-.78.8-2.07 0-2.86zM5.41 20L4 18.59l7.72-7.72 1.47 1.35L5.41 20z\"/>\n",
              "  </svg>\n",
              "      </button>\n",
              "      \n",
              "  <style>\n",
              "    .colab-df-container {\n",
              "      display:flex;\n",
              "      flex-wrap:wrap;\n",
              "      gap: 12px;\n",
              "    }\n",
              "\n",
              "    .colab-df-convert {\n",
              "      background-color: #E8F0FE;\n",
              "      border: none;\n",
              "      border-radius: 50%;\n",
              "      cursor: pointer;\n",
              "      display: none;\n",
              "      fill: #1967D2;\n",
              "      height: 32px;\n",
              "      padding: 0 0 0 0;\n",
              "      width: 32px;\n",
              "    }\n",
              "\n",
              "    .colab-df-convert:hover {\n",
              "      background-color: #E2EBFA;\n",
              "      box-shadow: 0px 1px 2px rgba(60, 64, 67, 0.3), 0px 1px 3px 1px rgba(60, 64, 67, 0.15);\n",
              "      fill: #174EA6;\n",
              "    }\n",
              "\n",
              "    [theme=dark] .colab-df-convert {\n",
              "      background-color: #3B4455;\n",
              "      fill: #D2E3FC;\n",
              "    }\n",
              "\n",
              "    [theme=dark] .colab-df-convert:hover {\n",
              "      background-color: #434B5C;\n",
              "      box-shadow: 0px 1px 3px 1px rgba(0, 0, 0, 0.15);\n",
              "      filter: drop-shadow(0px 1px 2px rgba(0, 0, 0, 0.3));\n",
              "      fill: #FFFFFF;\n",
              "    }\n",
              "  </style>\n",
              "\n",
              "      <script>\n",
              "        const buttonEl =\n",
              "          document.querySelector('#df-8a5f4da8-cb41-40f4-aa22-9272f947cd57 button.colab-df-convert');\n",
              "        buttonEl.style.display =\n",
              "          google.colab.kernel.accessAllowed ? 'block' : 'none';\n",
              "\n",
              "        async function convertToInteractive(key) {\n",
              "          const element = document.querySelector('#df-8a5f4da8-cb41-40f4-aa22-9272f947cd57');\n",
              "          const dataTable =\n",
              "            await google.colab.kernel.invokeFunction('convertToInteractive',\n",
              "                                                     [key], {});\n",
              "          if (!dataTable) return;\n",
              "\n",
              "          const docLinkHtml = 'Like what you see? Visit the ' +\n",
              "            '<a target=\"_blank\" href=https://colab.research.google.com/notebooks/data_table.ipynb>data table notebook</a>'\n",
              "            + ' to learn more about interactive tables.';\n",
              "          element.innerHTML = '';\n",
              "          dataTable['output_type'] = 'display_data';\n",
              "          await google.colab.output.renderOutput(dataTable, element);\n",
              "          const docLink = document.createElement('div');\n",
              "          docLink.innerHTML = docLinkHtml;\n",
              "          element.appendChild(docLink);\n",
              "        }\n",
              "      </script>\n",
              "    </div>\n",
              "  </div>\n",
              "  "
            ]
          },
          "metadata": {},
          "execution_count": 4
        }
      ]
    },
    {
      "cell_type": "markdown",
      "source": [
        "* There are 79 feature columns. Using these features your model has to predict the house sale price indicated by the label column named `SalePrice`."
      ],
      "metadata": {
        "papermill": {
          "duration": 0.009123,
          "end_time": "2023-03-07T06:21:48.340722",
          "exception": false,
          "start_time": "2023-03-07T06:21:48.331599",
          "status": "completed"
        },
        "tags": [],
        "id": "ulu8XdxO416n"
      }
    },
    {
      "cell_type": "markdown",
      "source": [
        "We will drop the `Id` column as it is not necessary for model training."
      ],
      "metadata": {
        "papermill": {
          "duration": 0.009025,
          "end_time": "2023-03-07T06:21:48.359367",
          "exception": false,
          "start_time": "2023-03-07T06:21:48.350342",
          "status": "completed"
        },
        "tags": [],
        "id": "n82wWtvL416n"
      }
    },
    {
      "cell_type": "code",
      "source": [
        "dataset_df = dataset_df.drop('Id', axis=1)\n",
        "dataset_df.head(3)"
      ],
      "metadata": {
        "papermill": {
          "duration": 0.043419,
          "end_time": "2023-03-07T06:21:48.412206",
          "exception": false,
          "start_time": "2023-03-07T06:21:48.368787",
          "status": "completed"
        },
        "tags": [],
        "id": "0lItmbYS416n",
        "execution": {
          "iopub.status.busy": "2023-04-03T10:16:48.008707Z",
          "iopub.execute_input": "2023-04-03T10:16:48.009074Z",
          "iopub.status.idle": "2023-04-03T10:16:48.038767Z",
          "shell.execute_reply.started": "2023-04-03T10:16:48.009038Z",
          "shell.execute_reply": "2023-04-03T10:16:48.037378Z"
        },
        "trusted": true,
        "colab": {
          "base_uri": "https://localhost:8080/",
          "height": 237
        },
        "outputId": "71fe55fd-c9f3-42fc-c1c8-0c07dce2bac1"
      },
      "execution_count": 5,
      "outputs": [
        {
          "output_type": "execute_result",
          "data": {
            "text/plain": [
              "   MSSubClass MSZoning  LotFrontage  LotArea Street Alley LotShape  \\\n",
              "0          60       RL         65.0     8450   Pave   NaN      Reg   \n",
              "1          20       RL         80.0     9600   Pave   NaN      Reg   \n",
              "2          60       RL         68.0    11250   Pave   NaN      IR1   \n",
              "\n",
              "  LandContour Utilities LotConfig  ... PoolArea PoolQC Fence MiscFeature  \\\n",
              "0         Lvl    AllPub    Inside  ...        0    NaN   NaN         NaN   \n",
              "1         Lvl    AllPub       FR2  ...        0    NaN   NaN         NaN   \n",
              "2         Lvl    AllPub    Inside  ...        0    NaN   NaN         NaN   \n",
              "\n",
              "  MiscVal MoSold  YrSold  SaleType  SaleCondition  SalePrice  \n",
              "0       0      2    2008        WD         Normal     208500  \n",
              "1       0      5    2007        WD         Normal     181500  \n",
              "2       0      9    2008        WD         Normal     223500  \n",
              "\n",
              "[3 rows x 80 columns]"
            ],
            "text/html": [
              "\n",
              "  <div id=\"df-a13c5866-4a39-43f9-a47a-2c7a5d2f90b8\">\n",
              "    <div class=\"colab-df-container\">\n",
              "      <div>\n",
              "<style scoped>\n",
              "    .dataframe tbody tr th:only-of-type {\n",
              "        vertical-align: middle;\n",
              "    }\n",
              "\n",
              "    .dataframe tbody tr th {\n",
              "        vertical-align: top;\n",
              "    }\n",
              "\n",
              "    .dataframe thead th {\n",
              "        text-align: right;\n",
              "    }\n",
              "</style>\n",
              "<table border=\"1\" class=\"dataframe\">\n",
              "  <thead>\n",
              "    <tr style=\"text-align: right;\">\n",
              "      <th></th>\n",
              "      <th>MSSubClass</th>\n",
              "      <th>MSZoning</th>\n",
              "      <th>LotFrontage</th>\n",
              "      <th>LotArea</th>\n",
              "      <th>Street</th>\n",
              "      <th>Alley</th>\n",
              "      <th>LotShape</th>\n",
              "      <th>LandContour</th>\n",
              "      <th>Utilities</th>\n",
              "      <th>LotConfig</th>\n",
              "      <th>...</th>\n",
              "      <th>PoolArea</th>\n",
              "      <th>PoolQC</th>\n",
              "      <th>Fence</th>\n",
              "      <th>MiscFeature</th>\n",
              "      <th>MiscVal</th>\n",
              "      <th>MoSold</th>\n",
              "      <th>YrSold</th>\n",
              "      <th>SaleType</th>\n",
              "      <th>SaleCondition</th>\n",
              "      <th>SalePrice</th>\n",
              "    </tr>\n",
              "  </thead>\n",
              "  <tbody>\n",
              "    <tr>\n",
              "      <th>0</th>\n",
              "      <td>60</td>\n",
              "      <td>RL</td>\n",
              "      <td>65.0</td>\n",
              "      <td>8450</td>\n",
              "      <td>Pave</td>\n",
              "      <td>NaN</td>\n",
              "      <td>Reg</td>\n",
              "      <td>Lvl</td>\n",
              "      <td>AllPub</td>\n",
              "      <td>Inside</td>\n",
              "      <td>...</td>\n",
              "      <td>0</td>\n",
              "      <td>NaN</td>\n",
              "      <td>NaN</td>\n",
              "      <td>NaN</td>\n",
              "      <td>0</td>\n",
              "      <td>2</td>\n",
              "      <td>2008</td>\n",
              "      <td>WD</td>\n",
              "      <td>Normal</td>\n",
              "      <td>208500</td>\n",
              "    </tr>\n",
              "    <tr>\n",
              "      <th>1</th>\n",
              "      <td>20</td>\n",
              "      <td>RL</td>\n",
              "      <td>80.0</td>\n",
              "      <td>9600</td>\n",
              "      <td>Pave</td>\n",
              "      <td>NaN</td>\n",
              "      <td>Reg</td>\n",
              "      <td>Lvl</td>\n",
              "      <td>AllPub</td>\n",
              "      <td>FR2</td>\n",
              "      <td>...</td>\n",
              "      <td>0</td>\n",
              "      <td>NaN</td>\n",
              "      <td>NaN</td>\n",
              "      <td>NaN</td>\n",
              "      <td>0</td>\n",
              "      <td>5</td>\n",
              "      <td>2007</td>\n",
              "      <td>WD</td>\n",
              "      <td>Normal</td>\n",
              "      <td>181500</td>\n",
              "    </tr>\n",
              "    <tr>\n",
              "      <th>2</th>\n",
              "      <td>60</td>\n",
              "      <td>RL</td>\n",
              "      <td>68.0</td>\n",
              "      <td>11250</td>\n",
              "      <td>Pave</td>\n",
              "      <td>NaN</td>\n",
              "      <td>IR1</td>\n",
              "      <td>Lvl</td>\n",
              "      <td>AllPub</td>\n",
              "      <td>Inside</td>\n",
              "      <td>...</td>\n",
              "      <td>0</td>\n",
              "      <td>NaN</td>\n",
              "      <td>NaN</td>\n",
              "      <td>NaN</td>\n",
              "      <td>0</td>\n",
              "      <td>9</td>\n",
              "      <td>2008</td>\n",
              "      <td>WD</td>\n",
              "      <td>Normal</td>\n",
              "      <td>223500</td>\n",
              "    </tr>\n",
              "  </tbody>\n",
              "</table>\n",
              "<p>3 rows × 80 columns</p>\n",
              "</div>\n",
              "      <button class=\"colab-df-convert\" onclick=\"convertToInteractive('df-a13c5866-4a39-43f9-a47a-2c7a5d2f90b8')\"\n",
              "              title=\"Convert this dataframe to an interactive table.\"\n",
              "              style=\"display:none;\">\n",
              "        \n",
              "  <svg xmlns=\"http://www.w3.org/2000/svg\" height=\"24px\"viewBox=\"0 0 24 24\"\n",
              "       width=\"24px\">\n",
              "    <path d=\"M0 0h24v24H0V0z\" fill=\"none\"/>\n",
              "    <path d=\"M18.56 5.44l.94 2.06.94-2.06 2.06-.94-2.06-.94-.94-2.06-.94 2.06-2.06.94zm-11 1L8.5 8.5l.94-2.06 2.06-.94-2.06-.94L8.5 2.5l-.94 2.06-2.06.94zm10 10l.94 2.06.94-2.06 2.06-.94-2.06-.94-.94-2.06-.94 2.06-2.06.94z\"/><path d=\"M17.41 7.96l-1.37-1.37c-.4-.4-.92-.59-1.43-.59-.52 0-1.04.2-1.43.59L10.3 9.45l-7.72 7.72c-.78.78-.78 2.05 0 2.83L4 21.41c.39.39.9.59 1.41.59.51 0 1.02-.2 1.41-.59l7.78-7.78 2.81-2.81c.8-.78.8-2.07 0-2.86zM5.41 20L4 18.59l7.72-7.72 1.47 1.35L5.41 20z\"/>\n",
              "  </svg>\n",
              "      </button>\n",
              "      \n",
              "  <style>\n",
              "    .colab-df-container {\n",
              "      display:flex;\n",
              "      flex-wrap:wrap;\n",
              "      gap: 12px;\n",
              "    }\n",
              "\n",
              "    .colab-df-convert {\n",
              "      background-color: #E8F0FE;\n",
              "      border: none;\n",
              "      border-radius: 50%;\n",
              "      cursor: pointer;\n",
              "      display: none;\n",
              "      fill: #1967D2;\n",
              "      height: 32px;\n",
              "      padding: 0 0 0 0;\n",
              "      width: 32px;\n",
              "    }\n",
              "\n",
              "    .colab-df-convert:hover {\n",
              "      background-color: #E2EBFA;\n",
              "      box-shadow: 0px 1px 2px rgba(60, 64, 67, 0.3), 0px 1px 3px 1px rgba(60, 64, 67, 0.15);\n",
              "      fill: #174EA6;\n",
              "    }\n",
              "\n",
              "    [theme=dark] .colab-df-convert {\n",
              "      background-color: #3B4455;\n",
              "      fill: #D2E3FC;\n",
              "    }\n",
              "\n",
              "    [theme=dark] .colab-df-convert:hover {\n",
              "      background-color: #434B5C;\n",
              "      box-shadow: 0px 1px 3px 1px rgba(0, 0, 0, 0.15);\n",
              "      filter: drop-shadow(0px 1px 2px rgba(0, 0, 0, 0.3));\n",
              "      fill: #FFFFFF;\n",
              "    }\n",
              "  </style>\n",
              "\n",
              "      <script>\n",
              "        const buttonEl =\n",
              "          document.querySelector('#df-a13c5866-4a39-43f9-a47a-2c7a5d2f90b8 button.colab-df-convert');\n",
              "        buttonEl.style.display =\n",
              "          google.colab.kernel.accessAllowed ? 'block' : 'none';\n",
              "\n",
              "        async function convertToInteractive(key) {\n",
              "          const element = document.querySelector('#df-a13c5866-4a39-43f9-a47a-2c7a5d2f90b8');\n",
              "          const dataTable =\n",
              "            await google.colab.kernel.invokeFunction('convertToInteractive',\n",
              "                                                     [key], {});\n",
              "          if (!dataTable) return;\n",
              "\n",
              "          const docLinkHtml = 'Like what you see? Visit the ' +\n",
              "            '<a target=\"_blank\" href=https://colab.research.google.com/notebooks/data_table.ipynb>data table notebook</a>'\n",
              "            + ' to learn more about interactive tables.';\n",
              "          element.innerHTML = '';\n",
              "          dataTable['output_type'] = 'display_data';\n",
              "          await google.colab.output.renderOutput(dataTable, element);\n",
              "          const docLink = document.createElement('div');\n",
              "          docLink.innerHTML = docLinkHtml;\n",
              "          element.appendChild(docLink);\n",
              "        }\n",
              "      </script>\n",
              "    </div>\n",
              "  </div>\n",
              "  "
            ]
          },
          "metadata": {},
          "execution_count": 5
        }
      ]
    },
    {
      "cell_type": "markdown",
      "source": [
        "We can inspect the types of feature columns using the following code:"
      ],
      "metadata": {
        "papermill": {
          "duration": 0.009883,
          "end_time": "2023-03-07T06:21:48.432601",
          "exception": false,
          "start_time": "2023-03-07T06:21:48.422718",
          "status": "completed"
        },
        "tags": [],
        "id": "QA_v408l416n"
      }
    },
    {
      "cell_type": "code",
      "source": [
        "dataset_df.info()"
      ],
      "metadata": {
        "papermill": {
          "duration": 0.046783,
          "end_time": "2023-03-07T06:21:48.489619",
          "exception": false,
          "start_time": "2023-03-07T06:21:48.442836",
          "status": "completed"
        },
        "tags": [],
        "id": "du6DU4Of416n",
        "execution": {
          "iopub.status.busy": "2023-04-03T10:16:48.040503Z",
          "iopub.execute_input": "2023-04-03T10:16:48.040880Z",
          "iopub.status.idle": "2023-04-03T10:16:48.081067Z",
          "shell.execute_reply.started": "2023-04-03T10:16:48.040842Z",
          "shell.execute_reply": "2023-04-03T10:16:48.079560Z"
        },
        "trusted": true,
        "colab": {
          "base_uri": "https://localhost:8080/"
        },
        "outputId": "46e21ec5-6302-41b1-f8ae-95e805553b40"
      },
      "execution_count": 6,
      "outputs": [
        {
          "output_type": "stream",
          "name": "stdout",
          "text": [
            "<class 'pandas.core.frame.DataFrame'>\n",
            "RangeIndex: 1460 entries, 0 to 1459\n",
            "Data columns (total 80 columns):\n",
            " #   Column         Non-Null Count  Dtype  \n",
            "---  ------         --------------  -----  \n",
            " 0   MSSubClass     1460 non-null   int64  \n",
            " 1   MSZoning       1460 non-null   object \n",
            " 2   LotFrontage    1201 non-null   float64\n",
            " 3   LotArea        1460 non-null   int64  \n",
            " 4   Street         1460 non-null   object \n",
            " 5   Alley          91 non-null     object \n",
            " 6   LotShape       1460 non-null   object \n",
            " 7   LandContour    1460 non-null   object \n",
            " 8   Utilities      1460 non-null   object \n",
            " 9   LotConfig      1460 non-null   object \n",
            " 10  LandSlope      1460 non-null   object \n",
            " 11  Neighborhood   1460 non-null   object \n",
            " 12  Condition1     1460 non-null   object \n",
            " 13  Condition2     1460 non-null   object \n",
            " 14  BldgType       1460 non-null   object \n",
            " 15  HouseStyle     1460 non-null   object \n",
            " 16  OverallQual    1460 non-null   int64  \n",
            " 17  OverallCond    1460 non-null   int64  \n",
            " 18  YearBuilt      1460 non-null   int64  \n",
            " 19  YearRemodAdd   1460 non-null   int64  \n",
            " 20  RoofStyle      1460 non-null   object \n",
            " 21  RoofMatl       1460 non-null   object \n",
            " 22  Exterior1st    1460 non-null   object \n",
            " 23  Exterior2nd    1460 non-null   object \n",
            " 24  MasVnrType     1452 non-null   object \n",
            " 25  MasVnrArea     1452 non-null   float64\n",
            " 26  ExterQual      1460 non-null   object \n",
            " 27  ExterCond      1460 non-null   object \n",
            " 28  Foundation     1460 non-null   object \n",
            " 29  BsmtQual       1423 non-null   object \n",
            " 30  BsmtCond       1423 non-null   object \n",
            " 31  BsmtExposure   1422 non-null   object \n",
            " 32  BsmtFinType1   1423 non-null   object \n",
            " 33  BsmtFinSF1     1460 non-null   int64  \n",
            " 34  BsmtFinType2   1422 non-null   object \n",
            " 35  BsmtFinSF2     1460 non-null   int64  \n",
            " 36  BsmtUnfSF      1460 non-null   int64  \n",
            " 37  TotalBsmtSF    1460 non-null   int64  \n",
            " 38  Heating        1460 non-null   object \n",
            " 39  HeatingQC      1460 non-null   object \n",
            " 40  CentralAir     1460 non-null   object \n",
            " 41  Electrical     1459 non-null   object \n",
            " 42  1stFlrSF       1460 non-null   int64  \n",
            " 43  2ndFlrSF       1460 non-null   int64  \n",
            " 44  LowQualFinSF   1460 non-null   int64  \n",
            " 45  GrLivArea      1460 non-null   int64  \n",
            " 46  BsmtFullBath   1460 non-null   int64  \n",
            " 47  BsmtHalfBath   1460 non-null   int64  \n",
            " 48  FullBath       1460 non-null   int64  \n",
            " 49  HalfBath       1460 non-null   int64  \n",
            " 50  BedroomAbvGr   1460 non-null   int64  \n",
            " 51  KitchenAbvGr   1460 non-null   int64  \n",
            " 52  KitchenQual    1460 non-null   object \n",
            " 53  TotRmsAbvGrd   1460 non-null   int64  \n",
            " 54  Functional     1460 non-null   object \n",
            " 55  Fireplaces     1460 non-null   int64  \n",
            " 56  FireplaceQu    770 non-null    object \n",
            " 57  GarageType     1379 non-null   object \n",
            " 58  GarageYrBlt    1379 non-null   float64\n",
            " 59  GarageFinish   1379 non-null   object \n",
            " 60  GarageCars     1460 non-null   int64  \n",
            " 61  GarageArea     1460 non-null   int64  \n",
            " 62  GarageQual     1379 non-null   object \n",
            " 63  GarageCond     1379 non-null   object \n",
            " 64  PavedDrive     1460 non-null   object \n",
            " 65  WoodDeckSF     1460 non-null   int64  \n",
            " 66  OpenPorchSF    1460 non-null   int64  \n",
            " 67  EnclosedPorch  1460 non-null   int64  \n",
            " 68  3SsnPorch      1460 non-null   int64  \n",
            " 69  ScreenPorch    1460 non-null   int64  \n",
            " 70  PoolArea       1460 non-null   int64  \n",
            " 71  PoolQC         7 non-null      object \n",
            " 72  Fence          281 non-null    object \n",
            " 73  MiscFeature    54 non-null     object \n",
            " 74  MiscVal        1460 non-null   int64  \n",
            " 75  MoSold         1460 non-null   int64  \n",
            " 76  YrSold         1460 non-null   int64  \n",
            " 77  SaleType       1460 non-null   object \n",
            " 78  SaleCondition  1460 non-null   object \n",
            " 79  SalePrice      1460 non-null   int64  \n",
            "dtypes: float64(3), int64(34), object(43)\n",
            "memory usage: 912.6+ KB\n"
          ]
        }
      ]
    },
    {
      "cell_type": "markdown",
      "source": [
        "## House Price Distribution\n",
        "\n",
        "Now let us take a look at how the house prices are distributed."
      ],
      "metadata": {
        "papermill": {
          "duration": 0.010252,
          "end_time": "2023-03-07T06:21:48.510224",
          "exception": false,
          "start_time": "2023-03-07T06:21:48.499972",
          "status": "completed"
        },
        "tags": [],
        "id": "PxdZCHvk416o"
      }
    },
    {
      "cell_type": "code",
      "source": [
        "print(dataset_df['SalePrice'].describe())\n",
        "plt.figure(figsize=(9, 8))\n",
        "sns.distplot(dataset_df['SalePrice'], color='g', bins=100, hist_kws={'alpha': 0.4});"
      ],
      "metadata": {
        "papermill": {
          "duration": 0.497946,
          "end_time": "2023-03-07T06:21:49.018361",
          "exception": false,
          "start_time": "2023-03-07T06:21:48.520415",
          "status": "completed"
        },
        "tags": [],
        "id": "qROZWZyE416o",
        "execution": {
          "iopub.status.busy": "2023-04-03T10:16:48.082557Z",
          "iopub.execute_input": "2023-04-03T10:16:48.082906Z",
          "iopub.status.idle": "2023-04-03T10:16:48.803467Z",
          "shell.execute_reply.started": "2023-04-03T10:16:48.082875Z",
          "shell.execute_reply": "2023-04-03T10:16:48.801979Z"
        },
        "trusted": true,
        "colab": {
          "base_uri": "https://localhost:8080/",
          "height": 1000
        },
        "outputId": "dc23cd98-6d13-41e2-b301-42a26ecf7bee"
      },
      "execution_count": 7,
      "outputs": [
        {
          "output_type": "stream",
          "name": "stdout",
          "text": [
            "count      1460.000000\n",
            "mean     180921.195890\n",
            "std       79442.502883\n",
            "min       34900.000000\n",
            "25%      129975.000000\n",
            "50%      163000.000000\n",
            "75%      214000.000000\n",
            "max      755000.000000\n",
            "Name: SalePrice, dtype: float64\n"
          ]
        },
        {
          "output_type": "stream",
          "name": "stderr",
          "text": [
            "<ipython-input-7-dc911a47893e>:3: UserWarning: \n",
            "\n",
            "`distplot` is a deprecated function and will be removed in seaborn v0.14.0.\n",
            "\n",
            "Please adapt your code to use either `displot` (a figure-level function with\n",
            "similar flexibility) or `histplot` (an axes-level function for histograms).\n",
            "\n",
            "For a guide to updating your code to use the new functions, please see\n",
            "https://gist.github.com/mwaskom/de44147ed2974457ad6372750bbe5751\n",
            "\n",
            "  sns.distplot(dataset_df['SalePrice'], color='g', bins=100, hist_kws={'alpha': 0.4});\n"
          ]
        },
        {
          "output_type": "display_data",
          "data": {
            "text/plain": [
              "<Figure size 900x800 with 1 Axes>"
            ],
            "image/png": "[encoded data removed]"
          },
          "metadata": {}
        }
      ]
    },
    {
      "cell_type": "markdown",
      "source": [
        "## Numerical data distribution\n",
        "\n",
        "We will now take a look at how the numerical features are distributed. In order to do this, let us first list all the types of data from our dataset and select only the numerical ones."
      ],
      "metadata": {
        "papermill": {
          "duration": 0.01022,
          "end_time": "2023-03-07T06:21:49.039644",
          "exception": false,
          "start_time": "2023-03-07T06:21:49.029424",
          "status": "completed"
        },
        "tags": [],
        "id": "tKnn1nR-416o"
      }
    },
    {
      "cell_type": "code",
      "source": [
        "list(set(dataset_df.dtypes.tolist()))"
      ],
      "metadata": {
        "papermill": {
          "duration": 0.022381,
          "end_time": "2023-03-07T06:21:49.072700",
          "exception": false,
          "start_time": "2023-03-07T06:21:49.050319",
          "status": "completed"
        },
        "tags": [],
        "id": "-hrMItSC416o",
        "execution": {
          "iopub.status.busy": "2023-04-03T10:16:48.810029Z",
          "iopub.execute_input": "2023-04-03T10:16:48.810622Z",
          "iopub.status.idle": "2023-04-03T10:16:48.818289Z",
          "shell.execute_reply.started": "2023-04-03T10:16:48.810565Z",
          "shell.execute_reply": "2023-04-03T10:16:48.817291Z"
        },
        "trusted": true,
        "colab": {
          "base_uri": "https://localhost:8080/"
        },
        "outputId": "bba9902c-6629-4742-ec94-0c03baaae251"
      },
      "execution_count": 8,
      "outputs": [
        {
          "output_type": "execute_result",
          "data": {
            "text/plain": [
              "[dtype('O'), dtype('int64'), dtype('float64')]"
            ]
          },
          "metadata": {},
          "execution_count": 8
        }
      ]
    },
    {
      "cell_type": "code",
      "source": [
        "df_num = dataset_df.select_dtypes(include = ['float64', 'int64'])\n",
        "df_num.head()"
      ],
      "metadata": {
        "papermill": {
          "duration": 0.038307,
          "end_time": "2023-03-07T06:21:49.122233",
          "exception": false,
          "start_time": "2023-03-07T06:21:49.083926",
          "status": "completed"
        },
        "tags": [],
        "id": "Vg2PQvfb416o",
        "execution": {
          "iopub.status.busy": "2023-04-03T10:16:48.819903Z",
          "iopub.execute_input": "2023-04-03T10:16:48.820568Z",
          "iopub.status.idle": "2023-04-03T10:16:48.850789Z",
          "shell.execute_reply.started": "2023-04-03T10:16:48.820527Z",
          "shell.execute_reply": "2023-04-03T10:16:48.849192Z"
        },
        "trusted": true,
        "colab": {
          "base_uri": "https://localhost:8080/",
          "height": 300
        },
        "outputId": "6fb8b6a3-f438-404e-f4cf-385e1c08b97a"
      },
      "execution_count": 9,
      "outputs": [
        {
          "output_type": "execute_result",
          "data": {
            "text/plain": [
              "   MSSubClass  LotFrontage  LotArea  OverallQual  OverallCond  YearBuilt  \\\n",
              "0          60         65.0     8450            7            5       2003   \n",
              "1          20         80.0     9600            6            8       1976   \n",
              "2          60         68.0    11250            7            5       2001   \n",
              "3          70         60.0     9550            7            5       1915   \n",
              "4          60         84.0    14260            8            5       2000   \n",
              "\n",
              "   YearRemodAdd  MasVnrArea  BsmtFinSF1  BsmtFinSF2  ...  WoodDeckSF  \\\n",
              "0          2003       196.0         706           0  ...           0   \n",
              "1          1976         0.0         978           0  ...         298   \n",
              "2          2002       162.0         486           0  ...           0   \n",
              "3          1970         0.0         216           0  ...           0   \n",
              "4          2000       350.0         655           0  ...         192   \n",
              "\n",
              "   OpenPorchSF  EnclosedPorch  3SsnPorch  ScreenPorch  PoolArea  MiscVal  \\\n",
              "0           61              0          0            0         0        0   \n",
              "1            0              0          0            0         0        0   \n",
              "2           42              0          0            0         0        0   \n",
              "3           35            272          0            0         0        0   \n",
              "4           84              0          0            0         0        0   \n",
              "\n",
              "   MoSold  YrSold  SalePrice  \n",
              "0       2    2008     208500  \n",
              "1       5    2007     181500  \n",
              "2       9    2008     223500  \n",
              "3       2    2006     140000  \n",
              "4      12    2008     250000  \n",
              "\n",
              "[5 rows x 37 columns]"
            ],
            "text/html": [
              "\n",
              "  <div id=\"df-5890d146-0cb3-4ee5-af08-5490fb985676\">\n",
              "    <div class=\"colab-df-container\">\n",
              "      <div>\n",
              "<style scoped>\n",
              "    .dataframe tbody tr th:only-of-type {\n",
              "        vertical-align: middle;\n",
              "    }\n",
              "\n",
              "    .dataframe tbody tr th {\n",
              "        vertical-align: top;\n",
              "    }\n",
              "\n",
              "    .dataframe thead th {\n",
              "        text-align: right;\n",
              "    }\n",
              "</style>\n",
              "<table border=\"1\" class=\"dataframe\">\n",
              "  <thead>\n",
              "    <tr style=\"text-align: right;\">\n",
              "      <th></th>\n",
              "      <th>MSSubClass</th>\n",
              "      <th>LotFrontage</th>\n",
              "      <th>LotArea</th>\n",
              "      <th>OverallQual</th>\n",
              "      <th>OverallCond</th>\n",
              "      <th>YearBuilt</th>\n",
              "      <th>YearRemodAdd</th>\n",
              "      <th>MasVnrArea</th>\n",
              "      <th>BsmtFinSF1</th>\n",
              "      <th>BsmtFinSF2</th>\n",
              "      <th>...</th>\n",
              "      <th>WoodDeckSF</th>\n",
              "      <th>OpenPorchSF</th>\n",
              "      <th>EnclosedPorch</th>\n",
              "      <th>3SsnPorch</th>\n",
              "      <th>ScreenPorch</th>\n",
              "      <th>PoolArea</th>\n",
              "      <th>MiscVal</th>\n",
              "      <th>MoSold</th>\n",
              "      <th>YrSold</th>\n",
              "      <th>SalePrice</th>\n",
              "    </tr>\n",
              "  </thead>\n",
              "  <tbody>\n",
              "    <tr>\n",
              "      <th>0</th>\n",
              "      <td>60</td>\n",
              "      <td>65.0</td>\n",
              "      <td>8450</td>\n",
              "      <td>7</td>\n",
              "      <td>5</td>\n",
              "      <td>2003</td>\n",
              "      <td>2003</td>\n",
              "      <td>196.0</td>\n",
              "      <td>706</td>\n",
              "      <td>0</td>\n",
              "      <td>...</td>\n",
              "      <td>0</td>\n",
              "      <td>61</td>\n",
              "      <td>0</td>\n",
              "      <td>0</td>\n",
              "      <td>0</td>\n",
              "      <td>0</td>\n",
              "      <td>0</td>\n",
              "      <td>2</td>\n",
              "      <td>2008</td>\n",
              "      <td>208500</td>\n",
              "    </tr>\n",
              "    <tr>\n",
              "      <th>1</th>\n",
              "      <td>20</td>\n",
              "      <td>80.0</td>\n",
              "      <td>9600</td>\n",
              "      <td>6</td>\n",
              "      <td>8</td>\n",
              "      <td>1976</td>\n",
              "      <td>1976</td>\n",
              "      <td>0.0</td>\n",
              "      <td>978</td>\n",
              "      <td>0</td>\n",
              "      <td>...</td>\n",
              "      <td>298</td>\n",
              "      <td>0</td>\n",
              "      <td>0</td>\n",
              "      <td>0</td>\n",
              "      <td>0</td>\n",
              "      <td>0</td>\n",
              "      <td>0</td>\n",
              "      <td>5</td>\n",
              "      <td>2007</td>\n",
              "      <td>181500</td>\n",
              "    </tr>\n",
              "    <tr>\n",
              "      <th>2</th>\n",
              "      <td>60</td>\n",
              "      <td>68.0</td>\n",
              "      <td>11250</td>\n",
              "      <td>7</td>\n",
              "      <td>5</td>\n",
              "      <td>2001</td>\n",
              "      <td>2002</td>\n",
              "      <td>162.0</td>\n",
              "      <td>486</td>\n",
              "      <td>0</td>\n",
              "      <td>...</td>\n",
              "      <td>0</td>\n",
              "      <td>42</td>\n",
              "      <td>0</td>\n",
              "      <td>0</td>\n",
              "      <td>0</td>\n",
              "      <td>0</td>\n",
              "      <td>0</td>\n",
              "      <td>9</td>\n",
              "      <td>2008</td>\n",
              "      <td>223500</td>\n",
              "    </tr>\n",
              "    <tr>\n",
              "      <th>3</th>\n",
              "      <td>70</td>\n",
              "      <td>60.0</td>\n",
              "      <td>9550</td>\n",
              "      <td>7</td>\n",
              "      <td>5</td>\n",
              "      <td>1915</td>\n",
              "      <td>1970</td>\n",
              "      <td>0.0</td>\n",
              "      <td>216</td>\n",
              "      <td>0</td>\n",
              "      <td>...</td>\n",
              "      <td>0</td>\n",
              "      <td>35</td>\n",
              "      <td>272</td>\n",
              "      <td>0</td>\n",
              "      <td>0</td>\n",
              "      <td>0</td>\n",
              "      <td>0</td>\n",
              "      <td>2</td>\n",
              "      <td>2006</td>\n",
              "      <td>140000</td>\n",
              "    </tr>\n",
              "    <tr>\n",
              "      <th>4</th>\n",
              "      <td>60</td>\n",
              "      <td>84.0</td>\n",
              "      <td>14260</td>\n",
              "      <td>8</td>\n",
              "      <td>5</td>\n",
              "      <td>2000</td>\n",
              "      <td>2000</td>\n",
              "      <td>350.0</td>\n",
              "      <td>655</td>\n",
              "      <td>0</td>\n",
              "      <td>...</td>\n",
              "      <td>192</td>\n",
              "      <td>84</td>\n",
              "      <td>0</td>\n",
              "      <td>0</td>\n",
              "      <td>0</td>\n",
              "      <td>0</td>\n",
              "      <td>0</td>\n",
              "      <td>12</td>\n",
              "      <td>2008</td>\n",
              "      <td>250000</td>\n",
              "    </tr>\n",
              "  </tbody>\n",
              "</table>\n",
              "<p>5 rows × 37 columns</p>\n",
              "</div>\n",
              "      <button class=\"colab-df-convert\" onclick=\"convertToInteractive('df-5890d146-0cb3-4ee5-af08-5490fb985676')\"\n",
              "              title=\"Convert this dataframe to an interactive table.\"\n",
              "              style=\"display:none;\">\n",
              "        \n",
              "  <svg xmlns=\"http://www.w3.org/2000/svg\" height=\"24px\"viewBox=\"0 0 24 24\"\n",
              "       width=\"24px\">\n",
              "    <path d=\"M0 0h24v24H0V0z\" fill=\"none\"/>\n",
              "    <path d=\"M18.56 5.44l.94 2.06.94-2.06 2.06-.94-2.06-.94-.94-2.06-.94 2.06-2.06.94zm-11 1L8.5 8.5l.94-2.06 2.06-.94-2.06-.94L8.5 2.5l-.94 2.06-2.06.94zm10 10l.94 2.06.94-2.06 2.06-.94-2.06-.94-.94-2.06-.94 2.06-2.06.94z\"/><path d=\"M17.41 7.96l-1.37-1.37c-.4-.4-.92-.59-1.43-.59-.52 0-1.04.2-1.43.59L10.3 9.45l-7.72 7.72c-.78.78-.78 2.05 0 2.83L4 21.41c.39.39.9.59 1.41.59.51 0 1.02-.2 1.41-.59l7.78-7.78 2.81-2.81c.8-.78.8-2.07 0-2.86zM5.41 20L4 18.59l7.72-7.72 1.47 1.35L5.41 20z\"/>\n",
              "  </svg>\n",
              "      </button>\n",
              "      \n",
              "  <style>\n",
              "    .colab-df-container {\n",
              "      display:flex;\n",
              "      flex-wrap:wrap;\n",
              "      gap: 12px;\n",
              "    }\n",
              "\n",
              "    .colab-df-convert {\n",
              "      background-color: #E8F0FE;\n",
              "      border: none;\n",
              "      border-radius: 50%;\n",
              "      cursor: pointer;\n",
              "      display: none;\n",
              "      fill: #1967D2;\n",
              "      height: 32px;\n",
              "      padding: 0 0 0 0;\n",
              "      width: 32px;\n",
              "    }\n",
              "\n",
              "    .colab-df-convert:hover {\n",
              "      background-color: #E2EBFA;\n",
              "      box-shadow: 0px 1px 2px rgba(60, 64, 67, 0.3), 0px 1px 3px 1px rgba(60, 64, 67, 0.15);\n",
              "      fill: #174EA6;\n",
              "    }\n",
              "\n",
              "    [theme=dark] .colab-df-convert {\n",
              "      background-color: #3B4455;\n",
              "      fill: #D2E3FC;\n",
              "    }\n",
              "\n",
              "    [theme=dark] .colab-df-convert:hover {\n",
              "      background-color: #434B5C;\n",
              "      box-shadow: 0px 1px 3px 1px rgba(0, 0, 0, 0.15);\n",
              "      filter: drop-shadow(0px 1px 2px rgba(0, 0, 0, 0.3));\n",
              "      fill: #FFFFFF;\n",
              "    }\n",
              "  </style>\n",
              "\n",
              "      <script>\n",
              "        const buttonEl =\n",
              "          document.querySelector('#df-5890d146-0cb3-4ee5-af08-5490fb985676 button.colab-df-convert');\n",
              "        buttonEl.style.display =\n",
              "          google.colab.kernel.accessAllowed ? 'block' : 'none';\n",
              "\n",
              "        async function convertToInteractive(key) {\n",
              "          const element = document.querySelector('#df-5890d146-0cb3-4ee5-af08-5490fb985676');\n",
              "          const dataTable =\n",
              "            await google.colab.kernel.invokeFunction('convertToInteractive',\n",
              "                                                     [key], {});\n",
              "          if (!dataTable) return;\n",
              "\n",
              "          const docLinkHtml = 'Like what you see? Visit the ' +\n",
              "            '<a target=\"_blank\" href=https://colab.research.google.com/notebooks/data_table.ipynb>data table notebook</a>'\n",
              "            + ' to learn more about interactive tables.';\n",
              "          element.innerHTML = '';\n",
              "          dataTable['output_type'] = 'display_data';\n",
              "          await google.colab.output.renderOutput(dataTable, element);\n",
              "          const docLink = document.createElement('div');\n",
              "          docLink.innerHTML = docLinkHtml;\n",
              "          element.appendChild(docLink);\n",
              "        }\n",
              "      </script>\n",
              "    </div>\n",
              "  </div>\n",
              "  "
            ]
          },
          "metadata": {},
          "execution_count": 9
        }
      ]
    },
    {
      "cell_type": "markdown",
      "source": [
        "Now let us plot the distribution for all the numerical features."
      ],
      "metadata": {
        "papermill": {
          "duration": 0.0106,
          "end_time": "2023-03-07T06:21:49.144057",
          "exception": false,
          "start_time": "2023-03-07T06:21:49.133457",
          "status": "completed"
        },
        "tags": [],
        "id": "MnaH5h8u416o"
      }
    },
    {
      "cell_type": "code",
      "source": [
        "df_num.hist(figsize=(16, 20), bins=50, xlabelsize=8, ylabelsize=8);"
      ],
      "metadata": {
        "papermill": {
          "duration": 8.021473,
          "end_time": "2023-03-07T06:21:57.176534",
          "exception": false,
          "start_time": "2023-03-07T06:21:49.155061",
          "status": "completed"
        },
        "tags": [],
        "id": "Dj4h_dIw416o",
        "execution": {
          "iopub.status.busy": "2023-04-03T10:16:48.852922Z",
          "iopub.execute_input": "2023-04-03T10:16:48.853368Z",
          "iopub.status.idle": "2023-04-03T10:16:57.042297Z",
          "shell.execute_reply.started": "2023-04-03T10:16:48.853307Z",
          "shell.execute_reply": "2023-04-03T10:16:57.041263Z"
        },
        "trusted": true,
        "colab": {
          "base_uri": "https://localhost:8080/",
          "height": 1000
        },
        "outputId": "4afa25a4-d5d6-4cc9-8daf-b9f69dc457e4"
      },
      "execution_count": 10,
      "outputs": [
        {
          "output_type": "display_data",
          "data": {
            "text/plain": [
              "<Figure size 1600x2000 with 42 Axes>"
            ],
            "image/png": "[encoded data removed]"
          },
          "metadata": {}
        }
      ]
    },
    {
      "cell_type": "markdown",
      "source": [
        "## Prepare the dataset\n",
        "\n",
        "This dataset contains a mix of numeric, categorical and missing features. TF-DF supports all these feature types natively, and no preprocessing is required. This is one advantage of tree-based models, making them a great entry point to Tensorflow and ML."
      ],
      "metadata": {
        "id": "H4O7QCoh5e2e",
        "papermill": {
          "duration": 0.012325,
          "end_time": "2023-03-07T06:21:57.202216",
          "exception": false,
          "start_time": "2023-03-07T06:21:57.189891",
          "status": "completed"
        },
        "tags": []
      }
    },
    {
      "cell_type": "markdown",
      "source": [
        "Now let us split the dataset into training and testing datasets:"
      ],
      "metadata": {
        "id": "brbRsBQfSC74",
        "papermill": {
          "duration": 0.012106,
          "end_time": "2023-03-07T06:21:57.227439",
          "exception": false,
          "start_time": "2023-03-07T06:21:57.215333",
          "status": "completed"
        },
        "tags": []
      }
    },
    {
      "cell_type": "code",
      "source": [
        "import numpy as np\n",
        "\n",
        "def split_dataset(dataset, test_ratio=0.30):\n",
        "  test_indices = np.random.rand(len(dataset)) < test_ratio\n",
        "  return dataset[~test_indices], dataset[test_indices]\n",
        "\n",
        "train_ds_pd, valid_ds_pd = split_dataset(dataset_df)\n",
        "print(\"{} examples in training, {} examples in testing.\".format(\n",
        "    len(train_ds_pd), len(valid_ds_pd)))"
      ],
      "metadata": {
        "id": "tsQad0t7SBv2",
        "papermill": {
          "duration": 0.025712,
          "end_time": "2023-03-07T06:21:57.266147",
          "exception": false,
          "start_time": "2023-03-07T06:21:57.240435",
          "status": "completed"
        },
        "tags": [],
        "execution": {
          "iopub.status.busy": "2023-04-03T10:16:57.043507Z",
          "iopub.execute_input": "2023-04-03T10:16:57.044550Z",
          "iopub.status.idle": "2023-04-03T10:16:57.054181Z",
          "shell.execute_reply.started": "2023-04-03T10:16:57.044510Z",
          "shell.execute_reply": "2023-04-03T10:16:57.053021Z"
        },
        "trusted": true,
        "colab": {
          "base_uri": "https://localhost:8080/"
        },
        "outputId": "532fdd4d-3702-4734-d124-93d457d4c6fc"
      },
      "execution_count": 11,
      "outputs": [
        {
          "output_type": "stream",
          "name": "stdout",
          "text": [
            "1025 examples in training, 435 examples in testing.\n"
          ]
        }
      ]
    },
    {
      "cell_type": "markdown",
      "source": [
        "There's one more step required before we can train the model. We need to convert the datatset from Pandas format (`pd.DataFrame`) into TensorFlow Datasets format (`tf.data.Dataset`).\n",
        "\n",
        "[TensorFlow Datasets](https://www.tensorflow.org/datasets/overview) is a high performance data loading library which is helpful when training neural networks with accelerators like GPUs and TPUs."
      ],
      "metadata": {
        "id": "-hNGPbLlSGvp",
        "papermill": {
          "duration": 0.01598,
          "end_time": "2023-03-07T06:21:57.294832",
          "exception": false,
          "start_time": "2023-03-07T06:21:57.278852",
          "status": "completed"
        },
        "tags": []
      }
    },
    {
      "cell_type": "markdown",
      "source": [
        "By default the Random Forest Model is configured to train classification tasks. Since this is a regression problem, we will specify the type of the task (`tfdf.keras.Task.REGRESSION`) as a parameter here."
      ],
      "metadata": {
        "papermill": {
          "duration": 0.012107,
          "end_time": "2023-03-07T06:21:57.319528",
          "exception": false,
          "start_time": "2023-03-07T06:21:57.307421",
          "status": "completed"
        },
        "tags": [],
        "id": "7goqxGx3416p"
      }
    },
    {
      "cell_type": "code",
      "source": [
        "label = 'SalePrice'\n",
        "train_ds = tfdf.keras.pd_dataframe_to_tf_dataset(train_ds_pd, label=label, task = tfdf.keras.Task.REGRESSION)\n",
        "valid_ds = tfdf.keras.pd_dataframe_to_tf_dataset(valid_ds_pd, label=label, task = tfdf.keras.Task.REGRESSION)"
      ],
      "metadata": {
        "id": "xQgimfirSGQ9",
        "papermill": {
          "duration": 0.26438,
          "end_time": "2023-03-07T06:21:57.596711",
          "exception": false,
          "start_time": "2023-03-07T06:21:57.332331",
          "status": "completed"
        },
        "tags": [],
        "execution": {
          "iopub.status.busy": "2023-04-03T10:16:57.055484Z",
          "iopub.execute_input": "2023-04-03T10:16:57.055842Z",
          "iopub.status.idle": "2023-04-03T10:16:57.406852Z",
          "shell.execute_reply.started": "2023-04-03T10:16:57.055809Z",
          "shell.execute_reply": "2023-04-03T10:16:57.405555Z"
        },
        "trusted": true
      },
      "execution_count": 12,
      "outputs": []
    },
    {
      "cell_type": "markdown",
      "source": [
        "## Select a Model\n",
        "\n",
        "There are several tree-based models for you to choose from.\n",
        "\n",
        "* RandomForestModel\n",
        "* GradientBoostedTreesModel\n",
        "* CartModel\n",
        "* DistributedGradientBoostedTreesModel\n",
        "\n",
        "To start, we'll work with a Random Forest. This is the most well-known of the Decision Forest training algorithms.\n",
        "\n",
        "A Random Forest is a collection of decision trees, each trained independently on a random subset of the training dataset (sampled with replacement). The algorithm is unique in that it is robust to overfitting, and easy to use."
      ],
      "metadata": {
        "id": "IUG4UKUyTNUu",
        "papermill": {
          "duration": 0.012451,
          "end_time": "2023-03-07T06:21:57.622170",
          "exception": false,
          "start_time": "2023-03-07T06:21:57.609719",
          "status": "completed"
        },
        "tags": []
      }
    },
    {
      "cell_type": "markdown",
      "source": [
        "We can list the all the available models in TensorFlow Decision Forests using the following code:"
      ],
      "metadata": {
        "papermill": {
          "duration": 0.0125,
          "end_time": "2023-03-07T06:21:57.647596",
          "exception": false,
          "start_time": "2023-03-07T06:21:57.635096",
          "status": "completed"
        },
        "tags": [],
        "id": "VJSwNUdb416p"
      }
    },
    {
      "cell_type": "code",
      "source": [
        "tfdf.keras.get_all_models()"
      ],
      "metadata": {
        "id": "MFmnkRR_Ui9w",
        "papermill": {
          "duration": 0.024872,
          "end_time": "2023-03-07T06:21:57.685403",
          "exception": false,
          "start_time": "2023-03-07T06:21:57.660531",
          "status": "completed"
        },
        "tags": [],
        "execution": {
          "iopub.status.busy": "2023-04-03T10:16:57.408504Z",
          "iopub.execute_input": "2023-04-03T10:16:57.408863Z",
          "iopub.status.idle": "2023-04-03T10:16:57.417193Z",
          "shell.execute_reply.started": "2023-04-03T10:16:57.408829Z",
          "shell.execute_reply": "2023-04-03T10:16:57.415704Z"
        },
        "trusted": true,
        "colab": {
          "base_uri": "https://localhost:8080/"
        },
        "outputId": "e0be9f01-305a-494a-99d0-e0376438a333"
      },
      "execution_count": 13,
      "outputs": [
        {
          "output_type": "execute_result",
          "data": {
            "text/plain": [
              "[tensorflow_decision_forests.keras.RandomForestModel,\n",
              " tensorflow_decision_forests.keras.GradientBoostedTreesModel,\n",
              " tensorflow_decision_forests.keras.CartModel,\n",
              " tensorflow_decision_forests.keras.DistributedGradientBoostedTreesModel]"
            ]
          },
          "metadata": {},
          "execution_count": 13
        }
      ]
    },
    {
      "cell_type": "markdown",
      "source": [
        "## How can I configure them?\n",
        "\n",
        "TensorFlow Decision Forests provides good defaults for you (e.g. the top ranking hyperparameters on our benchmarks, slightly modified to run in reasonable time). If you would like to configure the learning algorithm, you will find many options you can explore to get the highest possible accuracy.\n",
        "\n",
        "You can select a template and/or set parameters as follows:\n",
        "\n",
        "```rf = tfdf.keras.RandomForestModel(hyperparameter_template=\"benchmark_rank1\", task=tfdf.keras.Task.REGRESSION)```\n",
        "\n",
        "Read more [here](https://www.tensorflow.org/decision_forests/api_docs/python/tfdf/keras/RandomForestModel)."
      ],
      "metadata": {
        "id": "LiFn716FnMVQ",
        "papermill": {
          "duration": 0.012613,
          "end_time": "2023-03-07T06:21:57.710894",
          "exception": false,
          "start_time": "2023-03-07T06:21:57.698281",
          "status": "completed"
        },
        "tags": []
      }
    },
    {
      "cell_type": "markdown",
      "source": [
        "\n"
      ],
      "metadata": {
        "id": "irxAS91IRVAX",
        "papermill": {
          "duration": 0.012674,
          "end_time": "2023-03-07T06:21:57.737040",
          "exception": false,
          "start_time": "2023-03-07T06:21:57.724366",
          "status": "completed"
        },
        "tags": []
      }
    },
    {
      "cell_type": "markdown",
      "source": [
        "## Create a Random Forest\n",
        "\n",
        "Today, we will use the defaults to create the Random Forest Model while specifiyng the task type as `tfdf.keras.Task.REGRESSION`."
      ],
      "metadata": {
        "id": "AUt4j8fLWRlR",
        "papermill": {
          "duration": 0.012522,
          "end_time": "2023-03-07T06:21:57.762516",
          "exception": false,
          "start_time": "2023-03-07T06:21:57.749994",
          "status": "completed"
        },
        "tags": []
      }
    },
    {
      "cell_type": "code",
      "source": [
        "rf = tfdf.keras.RandomForestModel(task = tfdf.keras.Task.REGRESSION)\n",
        "rf.compile(metrics=[\"mse\"]) # Optional, you can use this to include a list of eval metrics"
      ],
      "metadata": {
        "id": "O7bqOQMYTRXZ",
        "papermill": {
          "duration": 0.079382,
          "end_time": "2023-03-07T06:21:57.854964",
          "exception": false,
          "start_time": "2023-03-07T06:21:57.775582",
          "status": "completed"
        },
        "tags": [],
        "execution": {
          "iopub.status.busy": "2023-04-03T10:16:57.418734Z",
          "iopub.execute_input": "2023-04-03T10:16:57.419182Z",
          "iopub.status.idle": "2023-04-03T10:16:57.483169Z",
          "shell.execute_reply.started": "2023-04-03T10:16:57.419140Z",
          "shell.execute_reply": "2023-04-03T10:16:57.481541Z"
        },
        "trusted": true,
        "colab": {
          "base_uri": "https://localhost:8080/"
        },
        "outputId": "641e18e4-e405-40c5-c8ce-5761a25963cb"
      },
      "execution_count": 14,
      "outputs": [
        {
          "output_type": "stream",
          "name": "stdout",
          "text": [
            "Use /tmp/tmpe6ja0sg4 as temporary training directory\n"
          ]
        }
      ]
    },
    {
      "cell_type": "markdown",
      "source": [
        "## Train the model\n",
        "\n",
        "We will train the model using a one-liner.\n",
        "\n",
        "Note: you may see a warning about Autograph. You can safely ignore this, it will be fixed in the next release."
      ],
      "metadata": {
        "id": "0CzJ5_sh91Yt",
        "papermill": {
          "duration": 0.013391,
          "end_time": "2023-03-07T06:21:57.881539",
          "exception": false,
          "start_time": "2023-03-07T06:21:57.868148",
          "status": "completed"
        },
        "tags": []
      }
    },
    {
      "cell_type": "code",
      "source": [
        "rf.fit(x=train_ds)"
      ],
      "metadata": {
        "id": "Ax6RircN92LW",
        "papermill": {
          "duration": 14.312048,
          "end_time": "2023-03-07T06:22:12.207321",
          "exception": false,
          "start_time": "2023-03-07T06:21:57.895273",
          "status": "completed"
        },
        "tags": [],
        "execution": {
          "iopub.status.busy": "2023-04-03T10:16:57.484868Z",
          "iopub.execute_input": "2023-04-03T10:16:57.485275Z",
          "iopub.status.idle": "2023-04-03T10:17:15.004227Z",
          "shell.execute_reply.started": "2023-04-03T10:16:57.485236Z",
          "shell.execute_reply": "2023-04-03T10:17:15.002552Z"
        },
        "trusted": true,
        "colab": {
          "base_uri": "https://localhost:8080/"
        },
        "outputId": "6c8c611e-37fe-4386-f8cd-85beb43f7b9e"
      },
      "execution_count": 15,
      "outputs": [
        {
          "output_type": "stream",
          "name": "stdout",
          "text": [
            "Reading training dataset...\n",
            "Training dataset read in 0:00:04.815520. Found 1025 examples.\n",
            "Training model...\n",
            "Model trained in 0:00:02.907399\n",
            "Compiling model...\n"
          ]
        },
        {
          "output_type": "stream",
          "name": "stderr",
          "text": [
            "WARNING:tensorflow:AutoGraph could not transform <function simple_ml_inference_op_with_handle at 0x7f3e85e476d0> and will run it as-is.\n",
            "Please report this to the TensorFlow team. When filing the bug, set the verbosity to 10 (on Linux, `export AUTOGRAPH_VERBOSITY=10`) and attach the full output.\n",
            "Cause: could not get source code\n",
            "To silence this warning, decorate the function with @tf.autograph.experimental.do_not_convert\n"
          ]
        },
        {
          "output_type": "stream",
          "name": "stdout",
          "text": [
            "WARNING: AutoGraph could not transform <function simple_ml_inference_op_with_handle at 0x7f3e85e476d0> and will run it as-is.\n",
            "Please report this to the TensorFlow team. When filing the bug, set the verbosity to 10 (on Linux, `export AUTOGRAPH_VERBOSITY=10`) and attach the full output.\n",
            "Cause: could not get source code\n",
            "To silence this warning, decorate the function with @tf.autograph.experimental.do_not_convert\n",
            "Model compiled.\n"
          ]
        },
        {
          "output_type": "execute_result",
          "data": {
            "text/plain": [
              "<keras.callbacks.History at 0x7f3e7b7ffa90>"
            ]
          },
          "metadata": {},
          "execution_count": 15
        }
      ]
    },
    {
      "cell_type": "markdown",
      "source": [
        "## Visualize the model\n",
        "One benefit of tree-based models is that you can easily visualize them. The default number of trees used in the Random Forests is 300. We can select a tree to display below."
      ],
      "metadata": {
        "id": "C1HJ6KxRT7IR",
        "papermill": {
          "duration": 0.014187,
          "end_time": "2023-03-07T06:22:12.236308",
          "exception": false,
          "start_time": "2023-03-07T06:22:12.222121",
          "status": "completed"
        },
        "tags": []
      }
    },
    {
      "cell_type": "code",
      "source": [
        "tfdf.model_plotter.plot_model_in_colab(rf, tree_idx=0, max_depth=3)"
      ],
      "metadata": {
        "id": "mTx73NgET9f8",
        "papermill": {
          "duration": 0.126324,
          "end_time": "2023-03-07T06:22:12.377534",
          "exception": false,
          "start_time": "2023-03-07T06:22:12.251210",
          "status": "completed"
        },
        "tags": [],
        "execution": {
          "iopub.status.busy": "2023-04-03T10:17:15.006085Z",
          "iopub.execute_input": "2023-04-03T10:17:15.006471Z",
          "iopub.status.idle": "2023-04-03T10:17:15.035145Z",
          "shell.execute_reply.started": "2023-04-03T10:17:15.006433Z",
          "shell.execute_reply": "2023-04-03T10:17:15.034231Z"
        },
        "trusted": true,
        "colab": {
          "base_uri": "https://localhost:8080/",
          "height": 404
        },
        "outputId": "e3825a0c-c679-48c3-efb8-8cb657b7ac6b"
      },
      "execution_count": 16,
      "outputs": [
        {
          "output_type": "execute_result",
          "data": {
            "text/plain": [
              "<IPython.core.display.HTML object>"
            ],
            "text/html": [
              "\n",
              "<script src=\"https://d3js.org/d3.v6.min.js\"></script>\n",
              "<div id=\"tree_plot_a1ea54985b764f5eab7c8c29374be71f\"></div>\n",
              "<script>\n",
              "/*\n",
              " * Copyright 2021 Google LLC.\n",
              " * Licensed under the Apache License, Version 2.0 (the \"License\");\n",
              " * you may not use this file except in compliance with the License.\n",
              " * You may obtain a copy of the License at\n",
              " *\n",
              " *     https://www.apache.org/licenses/LICENSE-2.0\n",
              " *\n",
              " * Unless required by applicable law or agreed to in writing, software\n",
              " * distributed under the License is distributed on an \"AS IS\" BASIS,\n",
              " * WITHOUT WARRANTIES OR CONDITIONS OF ANY KIND, either express or implied.\n",
              " * See the License for the specific language governing permissions and\n",
              " * limitations under the License.\n",
              " */\n",
              "\n",
              "/**\n",
              " *  Plotting of decision trees generated by TF-DF.\n",
              " *\n",
              " *  A tree is a recursive structure of node objects.\n",
              " *  A node contains one or more of the following components:\n",
              " *\n",
              " *    - A value: Representing the output of the node. If the node is not a leaf,\n",
              " *      the value is only present for analysis i.e. it is not used for\n",
              " *      predictions.\n",
              " *\n",
              " *    - A condition : For non-leaf nodes, the condition (also known as split)\n",
              " *      defines a binary test to branch to the positive or negative child.\n",
              " *\n",
              " *    - An explanation: Generally a plot showing the relation between the label\n",
              " *      and the condition to give insights about the effect of the condition.\n",
              " *\n",
              " *    - Two children : For non-leaf nodes, the children nodes. The first\n",
              " *      children (i.e. \"node.children[0]\") is the negative children (drawn in\n",
              " *      red). The second children is the positive one (drawn in green).\n",
              " *\n",
              " */\n",
              "\n",
              "/**\n",
              " * Plots a single decision tree into a DOM element.\n",
              " * @param {!options} options Dictionary of configurations.\n",
              " * @param {!tree} raw_tree Recursive tree structure.\n",
              " * @param {string} canvas_id Id of the output dom element.\n",
              " */\n",
              "function display_tree(options, raw_tree, canvas_id) {\n",
              "  console.log(options);\n",
              "\n",
              "  // Determine the node placement.\n",
              "  const tree_struct = d3.tree().nodeSize(\n",
              "      [options.node_y_offset, options.node_x_offset])(d3.hierarchy(raw_tree));\n",
              "\n",
              "  // Boundaries of the node placement.\n",
              "  let x_min = Infinity;\n",
              "  let x_max = -x_min;\n",
              "  let y_min = Infinity;\n",
              "  let y_max = -x_min;\n",
              "\n",
              "  tree_struct.each(d => {\n",
              "    if (d.x > x_max) x_max = d.x;\n",
              "    if (d.x < x_min) x_min = d.x;\n",
              "    if (d.y > y_max) y_max = d.y;\n",
              "    if (d.y < y_min) y_min = d.y;\n",
              "  });\n",
              "\n",
              "  // Size of the plot.\n",
              "  const width = y_max - y_min + options.node_x_size + options.margin * 2;\n",
              "  const height = x_max - x_min + options.node_y_size + options.margin * 2 +\n",
              "      options.node_y_offset - options.node_y_size;\n",
              "\n",
              "  const plot = d3.select(canvas_id);\n",
              "\n",
              "  // Tool tip\n",
              "  options.tooltip = plot.append('div')\n",
              "                        .attr('width', 100)\n",
              "                        .attr('height', 100)\n",
              "                        .style('padding', '4px')\n",
              "                        .style('background', '#fff')\n",
              "                        .style('box-shadow', '4px 4px 0px rgba(0,0,0,0.1)')\n",
              "                        .style('border', '1px solid black')\n",
              "                        .style('font-family', 'sans-serif')\n",
              "                        .style('font-size', options.font_size)\n",
              "                        .style('position', 'absolute')\n",
              "                        .style('z-index', '10')\n",
              "                        .attr('pointer-events', 'none')\n",
              "                        .style('display', 'none');\n",
              "\n",
              "  // Create canvas\n",
              "  const svg = plot.append('svg').attr('width', width).attr('height', height);\n",
              "  const graph =\n",
              "      svg.style('overflow', 'visible')\n",
              "          .append('g')\n",
              "          .attr('font-family', 'sans-serif')\n",
              "          .attr('font-size', options.font_size)\n",
              "          .attr(\n",
              "              'transform',\n",
              "              () => `translate(${options.margin},${\n",
              "                  - x_min + options.node_y_offset / 2 + options.margin})`);\n",
              "\n",
              "  // Plot bounding box.\n",
              "  if (options.show_plot_bounding_box) {\n",
              "    svg.append('rect')\n",
              "        .attr('width', width)\n",
              "        .attr('height', height)\n",
              "        .attr('fill', 'none')\n",
              "        .attr('stroke-width', 1.0)\n",
              "        .attr('stroke', 'black');\n",
              "  }\n",
              "\n",
              "  // Draw the edges.\n",
              "  display_edges(options, graph, tree_struct);\n",
              "\n",
              "  // Draw the nodes.\n",
              "  display_nodes(options, graph, tree_struct);\n",
              "}\n",
              "\n",
              "/**\n",
              " * Draw the nodes of the tree.\n",
              " * @param {!options} options Dictionary of configurations.\n",
              " * @param {!graph} graph D3 search handle containing the graph.\n",
              " * @param {!tree_struct} tree_struct Structure of the tree (node placement,\n",
              " *     data, etc.).\n",
              " */\n",
              "function display_nodes(options, graph, tree_struct) {\n",
              "  const nodes = graph.append('g')\n",
              "                    .selectAll('g')\n",
              "                    .data(tree_struct.descendants())\n",
              "                    .join('g')\n",
              "                    .attr('transform', d => `translate(${d.y},${d.x})`);\n",
              "\n",
              "  nodes.append('rect')\n",
              "      .attr('x', 0.5)\n",
              "      .attr('y', 0.5)\n",
              "      .attr('width', options.node_x_size)\n",
              "      .attr('height', options.node_y_size)\n",
              "      .attr('stroke', 'lightgrey')\n",
              "      .attr('stroke-width', 1)\n",
              "      .attr('fill', 'white')\n",
              "      .attr('y', -options.node_y_size / 2);\n",
              "\n",
              "  // Brackets on the right of condition nodes without children.\n",
              "  non_leaf_node_without_children =\n",
              "      nodes.filter(node => node.data.condition != null && node.children == null)\n",
              "          .append('g')\n",
              "          .attr('transform', `translate(${options.node_x_size},0)`);\n",
              "\n",
              "  non_leaf_node_without_children.append('path')\n",
              "      .attr('d', 'M0,0 C 10,0 0,10 10,10')\n",
              "      .attr('fill', 'none')\n",
              "      .attr('stroke-width', 1.0)\n",
              "      .attr('stroke', '#F00');\n",
              "\n",
              "  non_leaf_node_without_children.append('path')\n",
              "      .attr('d', 'M0,0 C 10,0 0,-10 10,-10')\n",
              "      .attr('fill', 'none')\n",
              "      .attr('stroke-width', 1.0)\n",
              "      .attr('stroke', '#0F0');\n",
              "\n",
              "  const node_content = nodes.append('g').attr(\n",
              "      'transform',\n",
              "      `translate(0,${options.node_padding - options.node_y_size / 2})`);\n",
              "\n",
              "  node_content.append(node => create_node_element(options, node));\n",
              "}\n",
              "\n",
              "/**\n",
              " * Creates the D3 content for a single node.\n",
              " * @param {!options} options Dictionary of configurations.\n",
              " * @param {!node} node Node to draw.\n",
              " * @return {!d3} D3 content.\n",
              " */\n",
              "function create_node_element(options, node) {\n",
              "  // Output accumulator.\n",
              "  let output = {\n",
              "    // Content to draw.\n",
              "    content: d3.create('svg:g'),\n",
              "    // Vertical offset to the next element to draw.\n",
              "    vertical_offset: 0\n",
              "  };\n",
              "\n",
              "  // Conditions.\n",
              "  if (node.data.condition != null) {\n",
              "    display_condition(options, node.data.condition, output);\n",
              "  }\n",
              "\n",
              "  // Values.\n",
              "  if (node.data.value != null) {\n",
              "    display_value(options, node.data.value, output);\n",
              "  }\n",
              "\n",
              "  // Explanations.\n",
              "  if (node.data.explanation != null) {\n",
              "    display_explanation(options, node.data.explanation, output);\n",
              "  }\n",
              "\n",
              "  return output.content.node();\n",
              "}\n",
              "\n",
              "\n",
              "/**\n",
              " * Adds a single line of text inside of a node.\n",
              " * @param {!options} options Dictionary of configurations.\n",
              " * @param {string} text Text to display.\n",
              " * @param {!output} output Output display accumulator.\n",
              " */\n",
              "function display_node_text(options, text, output) {\n",
              "  output.content.append('text')\n",
              "      .attr('x', options.node_padding)\n",
              "      .attr('y', output.vertical_offset)\n",
              "      .attr('alignment-baseline', 'hanging')\n",
              "      .text(text);\n",
              "  output.vertical_offset += 10;\n",
              "}\n",
              "\n",
              "/**\n",
              " * Adds a single line of text inside of a node with a tooltip.\n",
              " * @param {!options} options Dictionary of configurations.\n",
              " * @param {string} text Text to display.\n",
              " * @param {string} tooltip Text in the Tooltip.\n",
              " * @param {!output} output Output display accumulator.\n",
              " */\n",
              "function display_node_text_with_tooltip(options, text, tooltip, output) {\n",
              "  const item = output.content.append('text')\n",
              "                   .attr('x', options.node_padding)\n",
              "                   .attr('alignment-baseline', 'hanging')\n",
              "                   .text(text);\n",
              "\n",
              "  add_tooltip(options, item, () => tooltip);\n",
              "  output.vertical_offset += 10;\n",
              "}\n",
              "\n",
              "/**\n",
              " * Adds a tooltip to a dom element.\n",
              " * @param {!options} options Dictionary of configurations.\n",
              " * @param {!dom} target Dom element to equip with a tooltip.\n",
              " * @param {!func} get_content Generates the html content of the tooltip.\n",
              " */\n",
              "function add_tooltip(options, target, get_content) {\n",
              "  function show(d) {\n",
              "    options.tooltip.style('display', 'block');\n",
              "    options.tooltip.html(get_content());\n",
              "  }\n",
              "\n",
              "  function hide(d) {\n",
              "    options.tooltip.style('display', 'none');\n",
              "  }\n",
              "\n",
              "  function move(d) {\n",
              "    options.tooltip.style('display', 'block');\n",
              "    options.tooltip.style('left', (d.pageX + 5) + 'px');\n",
              "    options.tooltip.style('top', d.pageY + 'px');\n",
              "  }\n",
              "\n",
              "  target.on('mouseover', show);\n",
              "  target.on('mouseout', hide);\n",
              "  target.on('mousemove', move);\n",
              "}\n",
              "\n",
              "/**\n",
              " * Adds a condition inside of a node.\n",
              " * @param {!options} options Dictionary of configurations.\n",
              " * @param {!condition} condition Condition to display.\n",
              " * @param {!output} output Output display accumulator.\n",
              " */\n",
              "function display_condition(options, condition, output) {\n",
              "  threshold_format = d3.format('r');\n",
              "\n",
              "  if (condition.type === 'IS_MISSING') {\n",
              "    display_node_text(options, `${condition.attribute} is missing`, output);\n",
              "    return;\n",
              "  }\n",
              "\n",
              "  if (condition.type === 'IS_TRUE') {\n",
              "    display_node_text(options, `${condition.attribute} is true`, output);\n",
              "    return;\n",
              "  }\n",
              "\n",
              "  if (condition.type === 'NUMERICAL_IS_HIGHER_THAN') {\n",
              "    format = d3.format('r');\n",
              "    display_node_text(\n",
              "        options,\n",
              "        `${condition.attribute} >= ${threshold_format(condition.threshold)}`,\n",
              "        output);\n",
              "    return;\n",
              "  }\n",
              "\n",
              "  if (condition.type === 'CATEGORICAL_IS_IN') {\n",
              "    display_node_text_with_tooltip(\n",
              "        options, `${condition.attribute} in [...]`,\n",
              "        `${condition.attribute} in [${condition.mask}]`, output);\n",
              "    return;\n",
              "  }\n",
              "\n",
              "  if (condition.type === 'CATEGORICAL_SET_CONTAINS') {\n",
              "    display_node_text_with_tooltip(\n",
              "        options, `${condition.attribute} intersect [...]`,\n",
              "        `${condition.attribute} intersect [${condition.mask}]`, output);\n",
              "    return;\n",
              "  }\n",
              "\n",
              "  if (condition.type === 'NUMERICAL_SPARSE_OBLIQUE') {\n",
              "    display_node_text_with_tooltip(\n",
              "        options, `Sparse oblique split...`,\n",
              "        `[${condition.attributes}]*[${condition.weights}]>=${\n",
              "            threshold_format(condition.threshold)}`,\n",
              "        output);\n",
              "    return;\n",
              "  }\n",
              "\n",
              "  display_node_text(\n",
              "      options, `Non supported condition ${condition.type}`, output);\n",
              "}\n",
              "\n",
              "/**\n",
              " * Adds a value inside of a node.\n",
              " * @param {!options} options Dictionary of configurations.\n",
              " * @param {!value} value Value to display.\n",
              " * @param {!output} output Output display accumulator.\n",
              " */\n",
              "function display_value(options, value, output) {\n",
              "  if (value.type === 'PROBABILITY') {\n",
              "    const left_margin = 0;\n",
              "    const right_margin = 50;\n",
              "    const plot_width = options.node_x_size - options.node_padding * 2 -\n",
              "        left_margin - right_margin;\n",
              "\n",
              "    let cusum = Array.from(d3.cumsum(value.distribution));\n",
              "    cusum.unshift(0);\n",
              "    const distribution_plot = output.content.append('g').attr(\n",
              "        'transform', `translate(0,${output.vertical_offset + 0.5})`);\n",
              "\n",
              "    distribution_plot.selectAll('rect')\n",
              "        .data(value.distribution)\n",
              "        .join('rect')\n",
              "        .attr('height', 10)\n",
              "        .attr(\n",
              "            'x',\n",
              "            (d, i) =>\n",
              "                (cusum[i] * plot_width + left_margin + options.node_padding))\n",
              "        .attr('width', (d, i) => d * plot_width)\n",
              "        .style('fill', (d, i) => d3.schemeSet1[i]);\n",
              "\n",
              "    const num_examples =\n",
              "        output.content.append('g')\n",
              "            .attr('transform', `translate(0,${output.vertical_offset})`)\n",
              "            .append('text')\n",
              "            .attr('x', options.node_x_size - options.node_padding)\n",
              "            .attr('alignment-baseline', 'hanging')\n",
              "            .attr('text-anchor', 'end')\n",
              "            .text(`(${value.num_examples})`);\n",
              "\n",
              "    const distribution_details = d3.create('ul');\n",
              "    distribution_details.selectAll('li')\n",
              "        .data(value.distribution)\n",
              "        .join('li')\n",
              "        .append('span')\n",
              "        .text(\n",
              "            (d, i) =>\n",
              "                'class ' + i + ': ' + d3.format('.3%')(value.distribution[i]));\n",
              "\n",
              "    add_tooltip(options, distribution_plot, () => distribution_details.html());\n",
              "    add_tooltip(options, num_examples, () => 'Number of examples');\n",
              "\n",
              "    output.vertical_offset += 10;\n",
              "    return;\n",
              "  }\n",
              "\n",
              "  if (value.type === 'REGRESSION') {\n",
              "    display_node_text(\n",
              "        options,\n",
              "        'value: ' + d3.format('r')(value.value) + ` (` +\n",
              "            d3.format('.6')(value.num_examples) + `)`,\n",
              "        output);\n",
              "    return;\n",
              "  }\n",
              "\n",
              "  display_node_text(options, `Non supported value ${value.type}`, output);\n",
              "}\n",
              "\n",
              "/**\n",
              " * Adds an explanation inside of a node.\n",
              " * @param {!options} options Dictionary of configurations.\n",
              " * @param {!explanation} explanation Explanation to display.\n",
              " * @param {!output} output Output display accumulator.\n",
              " */\n",
              "function display_explanation(options, explanation, output) {\n",
              "  // Margin before the explanation.\n",
              "  output.vertical_offset += 10;\n",
              "\n",
              "  display_node_text(\n",
              "      options, `Non supported explanation ${explanation.type}`, output);\n",
              "}\n",
              "\n",
              "\n",
              "/**\n",
              " * Draw the edges of the tree.\n",
              " * @param {!options} options Dictionary of configurations.\n",
              " * @param {!graph} graph D3 search handle containing the graph.\n",
              " * @param {!tree_struct} tree_struct Structure of the tree (node placement,\n",
              " *     data, etc.).\n",
              " */\n",
              "function display_edges(options, graph, tree_struct) {\n",
              "  // Draw an edge between a parent and a child node with a bezier.\n",
              "  function draw_single_edge(d) {\n",
              "    return 'M' + (d.source.y + options.node_x_size) + ',' + d.source.x + ' C' +\n",
              "        (d.source.y + options.node_x_size + options.edge_rounding) + ',' +\n",
              "        d.source.x + ' ' + (d.target.y - options.edge_rounding) + ',' +\n",
              "        d.target.x + ' ' + d.target.y + ',' + d.target.x;\n",
              "  }\n",
              "\n",
              "  graph.append('g')\n",
              "      .attr('fill', 'none')\n",
              "      .attr('stroke-width', 1.2)\n",
              "      .selectAll('path')\n",
              "      .data(tree_struct.links())\n",
              "      .join('path')\n",
              "      .attr('d', draw_single_edge)\n",
              "      .attr(\n",
              "          'stroke', d => (d.target === d.source.children[0]) ? '#0F0' : '#F00');\n",
              "}\n",
              "\n",
              "display_tree({\"margin\": 10, \"node_x_size\": 160, \"node_y_size\": 28, \"node_x_offset\": 180, \"node_y_offset\": 33, \"font_size\": 10, \"edge_rounding\": 20, \"node_padding\": 2, \"show_plot_bounding_box\": false}, {\"value\": {\"type\": \"REGRESSION\", \"value\": 179603.921875, \"num_examples\": 1025.0, \"standard_deviation\": 76461.66326261999}, \"condition\": {\"type\": \"NUMERICAL_IS_HIGHER_THAN\", \"attribute\": \"YearBuilt\", \"threshold\": 1985.5}, \"children\": [{\"value\": {\"type\": \"REGRESSION\", \"value\": 239030.375, \"num_examples\": 402.0, \"standard_deviation\": 76400.99288477417}, \"condition\": {\"type\": \"CATEGORICAL_IS_IN\", \"attribute\": \"Neighborhood\", \"mask\": [\"NridgHt\", \"Crawfor\", \"NoRidge\", \"Timber\", \"ClearCr\", \"StoneBr\", \"Veenker\"]}, \"children\": [{\"value\": {\"type\": \"REGRESSION\", \"value\": 306515.375, \"num_examples\": 123.0, \"standard_deviation\": 79384.61547833178}, \"condition\": {\"type\": \"CATEGORICAL_IS_IN\", \"attribute\": \"ExterQual\", \"mask\": [\"Ex\"]}, \"children\": [{\"value\": {\"type\": \"REGRESSION\", \"value\": 418788.84375, \"num_examples\": 21.0, \"standard_deviation\": 66770.17253112898}, \"condition\": {\"type\": \"NUMERICAL_IS_HIGHER_THAN\", \"attribute\": \"TotRmsAbvGrd\", \"threshold\": 9.5}}, {\"value\": {\"type\": \"REGRESSION\", \"value\": 283400.25, \"num_examples\": 102.0, \"standard_deviation\": 59598.40370225182}, \"condition\": {\"type\": \"NUMERICAL_IS_HIGHER_THAN\", \"attribute\": \"BsmtFinSF1\", \"threshold\": 960.5}}]}, {\"value\": {\"type\": \"REGRESSION\", \"value\": 209278.921875, \"num_examples\": 279.0, \"standard_deviation\": 52338.04865091153}, \"condition\": {\"type\": \"NUMERICAL_IS_HIGHER_THAN\", \"attribute\": \"GarageArea\", \"threshold\": 1003.0}, \"children\": [{\"value\": {\"type\": \"REGRESSION\", \"value\": 401372.84375, \"num_examples\": 7.0, \"standard_deviation\": 55272.50235858319}}, {\"value\": {\"type\": \"REGRESSION\", \"value\": 204335.328125, \"num_examples\": 272.0, \"standard_deviation\": 41917.43256780834}, \"condition\": {\"type\": \"NUMERICAL_IS_HIGHER_THAN\", \"attribute\": \"1stFlrSF\", \"threshold\": 1367.0}}]}]}, {\"value\": {\"type\": \"REGRESSION\", \"value\": 141258.109375, \"num_examples\": 623.0, \"standard_deviation\": 45860.80902056285}, \"condition\": {\"type\": \"NUMERICAL_IS_HIGHER_THAN\", \"attribute\": \"GrLivArea\", \"threshold\": 2065.5}, \"children\": [{\"value\": {\"type\": \"REGRESSION\", \"value\": 220847.734375, \"num_examples\": 56.0, \"standard_deviation\": 73614.20622552393}, \"condition\": {\"type\": \"NUMERICAL_IS_HIGHER_THAN\", \"attribute\": \"OverallQual\", \"threshold\": 7.5}, \"children\": [{\"value\": {\"type\": \"REGRESSION\", \"value\": 336857.15625, \"num_examples\": 7.0, \"standard_deviation\": 95517.27906424434}}, {\"value\": {\"type\": \"REGRESSION\", \"value\": 204274.953125, \"num_examples\": 49.0, \"standard_deviation\": 51890.10264381913}, \"condition\": {\"type\": \"CATEGORICAL_IS_IN\", \"attribute\": \"Neighborhood\", \"mask\": [\"Edwards\", \"NWAmes\", \"BrkSide\", \"Crawfor\", \"ClearCr\", \"StoneBr\", \"Veenker\"]}}]}, {\"value\": {\"type\": \"REGRESSION\", \"value\": 133397.40625, \"num_examples\": 567.0, \"standard_deviation\": 32989.431025888196}, \"condition\": {\"type\": \"NUMERICAL_IS_HIGHER_THAN\", \"attribute\": \"LotArea\", \"threshold\": 9100.5}, \"children\": [{\"value\": {\"type\": \"REGRESSION\", \"value\": 151432.828125, \"num_examples\": 249.0, \"standard_deviation\": 31888.095387066533}, \"condition\": {\"type\": \"NUMERICAL_IS_HIGHER_THAN\", \"attribute\": \"Fireplaces\", \"threshold\": 0.5}}, {\"value\": {\"type\": \"REGRESSION\", \"value\": 119275.3203125, \"num_examples\": 318.0, \"standard_deviation\": 26270.12897223519}, \"condition\": {\"type\": \"NUMERICAL_IS_HIGHER_THAN\", \"attribute\": \"1stFlrSF\", \"threshold\": 814.5}}]}]}]}, \"#tree_plot_a1ea54985b764f5eab7c8c29374be71f\")\n",
              "</script>\n"
            ]
          },
          "metadata": {},
          "execution_count": 16
        }
      ]
    },
    {
      "cell_type": "markdown",
      "source": [
        "## Evaluate the model on the Out of bag (OOB) data and the validation dataset\n",
        "\n",
        "Before training the dataset we have manually seperated 20% of the dataset for validation named as `valid_ds`.\n",
        "\n",
        "We can also use Out of bag (OOB) score to validate our RandomForestModel.\n",
        "To train a Random Forest Model, a set of random samples from training set are choosen by the algorithm and the rest of the samples are used to finetune the model.The subset of data that is not chosen is known as Out of bag data (OOB).\n",
        "OOB score is computed on the OOB data.\n",
        "\n",
        "Read more about OOB data [here](https://developers.google.com/machine-learning/decision-forests/out-of-bag).\n",
        "\n",
        "The training logs show the Root Mean Squared Error (RMSE) evaluated on the out-of-bag dataset according to the number of trees in the model. Let us plot this.\n",
        "\n",
        "Note: Smaller values are better for this hyperparameter."
      ],
      "metadata": {
        "id": "fazbJOgUT1n4",
        "papermill": {
          "duration": 0.015024,
          "end_time": "2023-03-07T06:22:12.407834",
          "exception": false,
          "start_time": "2023-03-07T06:22:12.392810",
          "status": "completed"
        },
        "tags": []
      }
    },
    {
      "cell_type": "code",
      "source": [
        "import matplotlib.pyplot as plt\n",
        "logs = rf.make_inspector().training_logs()\n",
        "plt.plot([log.num_trees for log in logs], [log.evaluation.rmse for log in logs])\n",
        "plt.xlabel(\"Number of trees\")\n",
        "plt.ylabel(\"RMSE (out-of-bag)\")\n",
        "plt.show()"
      ],
      "metadata": {
        "id": "ryddKoqLWrTp",
        "papermill": {
          "duration": 0.229991,
          "end_time": "2023-03-07T06:22:12.653052",
          "exception": false,
          "start_time": "2023-03-07T06:22:12.423061",
          "status": "completed"
        },
        "tags": [],
        "execution": {
          "iopub.status.busy": "2023-04-03T10:17:15.036676Z",
          "iopub.execute_input": "2023-04-03T10:17:15.037815Z",
          "iopub.status.idle": "2023-04-03T10:17:15.271061Z",
          "shell.execute_reply.started": "2023-04-03T10:17:15.037775Z",
          "shell.execute_reply": "2023-04-03T10:17:15.269753Z"
        },
        "trusted": true,
        "colab": {
          "base_uri": "https://localhost:8080/",
          "height": 449
        },
        "outputId": "800c9836-38d6-49a1-ff06-6d09bbea0ad8"
      },
      "execution_count": 17,
      "outputs": [
        {
          "output_type": "display_data",
          "data": {
            "text/plain": [
              "<Figure size 640x480 with 1 Axes>"
            ],
            "image/png": "[encoded data removed]"
          },
          "metadata": {}
        }
      ]
    },
    {
      "cell_type": "markdown",
      "source": [
        "We can also see some general stats on the OOB dataset:"
      ],
      "metadata": {
        "id": "Y-yMMsK5-3Mr",
        "papermill": {
          "duration": 0.015203,
          "end_time": "2023-03-07T06:22:12.684147",
          "exception": false,
          "start_time": "2023-03-07T06:22:12.668944",
          "status": "completed"
        },
        "tags": []
      }
    },
    {
      "cell_type": "code",
      "source": [
        "inspector = rf.make_inspector()\n",
        "inspector.evaluation()"
      ],
      "metadata": {
        "id": "gdY8DvriTxky",
        "papermill": {
          "duration": 0.032483,
          "end_time": "2023-03-07T06:22:12.732339",
          "exception": false,
          "start_time": "2023-03-07T06:22:12.699856",
          "status": "completed"
        },
        "tags": [],
        "execution": {
          "iopub.status.busy": "2023-04-03T10:17:15.273239Z",
          "iopub.execute_input": "2023-04-03T10:17:15.273922Z",
          "iopub.status.idle": "2023-04-03T10:17:15.284508Z",
          "shell.execute_reply.started": "2023-04-03T10:17:15.273883Z",
          "shell.execute_reply": "2023-04-03T10:17:15.283066Z"
        },
        "trusted": true,
        "colab": {
          "base_uri": "https://localhost:8080/"
        },
        "outputId": "231d7bfa-5402-4e6e-b7ba-cfbcd668f39b"
      },
      "execution_count": 18,
      "outputs": [
        {
          "output_type": "execute_result",
          "data": {
            "text/plain": [
              "Evaluation(num_examples=1025, accuracy=None, loss=None, rmse=31061.256980053928, ndcg=None, aucs=None, auuc=None, qini=None)"
            ]
          },
          "metadata": {},
          "execution_count": 18
        }
      ]
    },
    {
      "cell_type": "markdown",
      "source": [
        "Now, let us run an evaluation using the validation dataset."
      ],
      "metadata": {
        "id": "GAoGJNjg-9sb",
        "papermill": {
          "duration": 0.015817,
          "end_time": "2023-03-07T06:22:12.764326",
          "exception": false,
          "start_time": "2023-03-07T06:22:12.748509",
          "status": "completed"
        },
        "tags": []
      }
    },
    {
      "cell_type": "code",
      "source": [
        "evaluation = rf.evaluate(x=valid_ds,return_dict=True)\n",
        "\n",
        "for name, value in evaluation.items():\n",
        "  print(f\"{name}: {value:.4f}\")"
      ],
      "metadata": {
        "id": "39x97YqWZlgm",
        "papermill": {
          "duration": 1.513826,
          "end_time": "2023-03-07T06:22:14.294393",
          "exception": false,
          "start_time": "2023-03-07T06:22:12.780567",
          "status": "completed"
        },
        "tags": [],
        "execution": {
          "iopub.status.busy": "2023-04-03T10:17:15.286247Z",
          "iopub.execute_input": "2023-04-03T10:17:15.287850Z",
          "iopub.status.idle": "2023-04-03T10:17:16.144774Z",
          "shell.execute_reply.started": "2023-04-03T10:17:15.287595Z",
          "shell.execute_reply": "2023-04-03T10:17:16.143575Z"
        },
        "trusted": true,
        "colab": {
          "base_uri": "https://localhost:8080/"
        },
        "outputId": "6674e3e4-94c2-4f29-94bb-54f6e129bb5d"
      },
      "execution_count": 19,
      "outputs": [
        {
          "output_type": "stream",
          "name": "stdout",
          "text": [
            "1/1 [==============================] - 1s 1s/step - loss: 0.0000e+00 - mse: 824199168.0000\n",
            "loss: 0.0000\n",
            "mse: 824199168.0000\n"
          ]
        }
      ]
    },
    {
      "cell_type": "markdown",
      "source": [
        "## Variable importances\n",
        "\n",
        "Variable importances generally indicate how much a feature contributes to the model predictions or quality. There are several ways to identify important features using TensorFlow Decision Forests.\n",
        "Let us list the available `Variable Importances` for Decision Trees:"
      ],
      "metadata": {
        "id": "LWWqqDLM7WdZ",
        "papermill": {
          "duration": 0.015916,
          "end_time": "2023-03-07T06:22:14.326830",
          "exception": false,
          "start_time": "2023-03-07T06:22:14.310914",
          "status": "completed"
        },
        "tags": []
      }
    },
    {
      "cell_type": "code",
      "source": [
        "print(f\"Available variable importances:\")\n",
        "for importance in inspector.variable_importances().keys():\n",
        "  print(\"\\t\", importance)"
      ],
      "metadata": {
        "id": "xok16_jMgGZH",
        "papermill": {
          "duration": 0.028662,
          "end_time": "2023-03-07T06:22:14.371495",
          "exception": false,
          "start_time": "2023-03-07T06:22:14.342833",
          "status": "completed"
        },
        "tags": [],
        "execution": {
          "iopub.status.busy": "2023-04-03T10:17:16.146583Z",
          "iopub.execute_input": "2023-04-03T10:17:16.147340Z",
          "iopub.status.idle": "2023-04-03T10:17:16.156308Z",
          "shell.execute_reply.started": "2023-04-03T10:17:16.147292Z",
          "shell.execute_reply": "2023-04-03T10:17:16.155129Z"
        },
        "trusted": true,
        "colab": {
          "base_uri": "https://localhost:8080/"
        },
        "outputId": "4858b431-af9a-4b63-b04c-d04b71a5f3e0"
      },
      "execution_count": 20,
      "outputs": [
        {
          "output_type": "stream",
          "name": "stdout",
          "text": [
            "Available variable importances:\n",
            "\t NUM_NODES\n",
            "\t INV_MEAN_MIN_DEPTH\n",
            "\t SUM_SCORE\n",
            "\t NUM_AS_ROOT\n"
          ]
        }
      ]
    },
    {
      "cell_type": "markdown",
      "source": [
        "As an example, let us display the important features for the Variable Importance `NUM_AS_ROOT`.\n",
        "\n",
        "The larger the importance score for `NUM_AS_ROOT`, the more impact it has on the outcome of the model.\n",
        "\n",
        "By default, the list is sorted from the most important to the least. From the output you can infer that the feature at the top of the list is used as the root node in most number of trees in the random forest than any other feature."
      ],
      "metadata": {
        "id": "USvNgqBR_JR2",
        "papermill": {
          "duration": 0.016135,
          "end_time": "2023-03-07T06:22:14.404154",
          "exception": false,
          "start_time": "2023-03-07T06:22:14.388019",
          "status": "completed"
        },
        "tags": []
      }
    },
    {
      "cell_type": "code",
      "source": [
        "inspector.variable_importances()[\"NUM_AS_ROOT\"]"
      ],
      "metadata": {
        "id": "eI073gJHgHxr",
        "papermill": {
          "duration": 0.02844,
          "end_time": "2023-03-07T06:22:14.449021",
          "exception": false,
          "start_time": "2023-03-07T06:22:14.420581",
          "status": "completed"
        },
        "tags": [],
        "execution": {
          "iopub.status.busy": "2023-04-03T10:17:16.158006Z",
          "iopub.execute_input": "2023-04-03T10:17:16.159030Z",
          "iopub.status.idle": "2023-04-03T10:17:16.170975Z",
          "shell.execute_reply.started": "2023-04-03T10:17:16.158979Z",
          "shell.execute_reply": "2023-04-03T10:17:16.169645Z"
        },
        "trusted": true,
        "colab": {
          "base_uri": "https://localhost:8080/"
        },
        "outputId": "53048fbd-7dc8-40a2-fbc0-ab4a5961e90d"
      },
      "execution_count": 21,
      "outputs": [
        {
          "output_type": "execute_result",
          "data": {
            "text/plain": [
              "[(\"OverallQual\" (1; #62), 121.0),\n",
              " (\"ExterQual\" (4; #22), 55.0),\n",
              " (\"Neighborhood\" (4; #59), 32.0),\n",
              " (\"GarageCars\" (1; #32), 31.0),\n",
              " (\"YearBuilt\" (1; #76), 25.0),\n",
              " (\"KitchenQual\" (4; #44), 11.0),\n",
              " (\"TotalBsmtSF\" (1; #73), 10.0),\n",
              " (\"GrLivArea\" (1; #38), 6.0),\n",
              " (\"GarageArea\" (1; #31), 5.0),\n",
              " (\"BsmtQual\" (4; #14), 2.0),\n",
              " (\"FullBath\" (1; #29), 1.0),\n",
              " (\"GarageYrBlt\" (1; #37), 1.0)]"
            ]
          },
          "metadata": {},
          "execution_count": 21
        }
      ]
    },
    {
      "cell_type": "markdown",
      "source": [
        "Plot the variable importances from the inspector using Matplotlib"
      ],
      "metadata": {
        "id": "qiASD3ei52H6"
      }
    },
    {
      "cell_type": "code",
      "source": [
        "plt.figure(figsize=(12, 4))\n",
        "\n",
        "# Mean decrease in AUC of the class 1 vs the others.\n",
        "variable_importance_metric = \"NUM_AS_ROOT\"\n",
        "variable_importances = inspector.variable_importances()[variable_importance_metric]\n",
        "\n",
        "# Extract the feature name and importance values.\n",
        "#\n",
        "# `variable_importances` is a list of <feature, importance> tuples.\n",
        "feature_names = [vi[0].name for vi in variable_importances]\n",
        "feature_importances = [vi[1] for vi in variable_importances]\n",
        "# The feature are ordered in decreasing importance value.\n",
        "feature_ranks = range(len(feature_names))\n",
        "\n",
        "bar = plt.barh(feature_ranks, feature_importances, label=[str(x) for x in feature_ranks])\n",
        "plt.yticks(feature_ranks, feature_names)\n",
        "plt.gca().invert_yaxis()\n",
        "\n",
        "# TODO: Replace with \"plt.bar_label()\" when available.\n",
        "# Label each bar with values\n",
        "for importance, patch in zip(feature_importances, bar.patches):\n",
        "  plt.text(patch.get_x() + patch.get_width(), patch.get_y(), f\"{importance:.4f}\", va=\"top\")\n",
        "\n",
        "plt.xlabel(variable_importance_metric)\n",
        "plt.title(\"NUM AS ROOT of the class 1 vs the others\")\n",
        "plt.tight_layout()\n",
        "plt.show()"
      ],
      "metadata": {
        "id": "cyyzelTl53AH",
        "execution": {
          "iopub.status.busy": "2023-04-03T10:17:16.173324Z",
          "iopub.execute_input": "2023-04-03T10:17:16.174204Z",
          "iopub.status.idle": "2023-04-03T10:17:16.535772Z",
          "shell.execute_reply.started": "2023-04-03T10:17:16.174156Z",
          "shell.execute_reply": "2023-04-03T10:17:16.534420Z"
        },
        "trusted": true,
        "colab": {
          "base_uri": "https://localhost:8080/",
          "height": 407
        },
        "outputId": "f6959078-aa51-4bca-d887-a2198e644a20"
      },
      "execution_count": 22,
      "outputs": [
        {
          "output_type": "display_data",
          "data": {
            "text/plain": [
              "<Figure size 1200x400 with 1 Axes>"
            ],
            "image/png": "[encoded data removed]"
          },
          "metadata": {}
        }
      ]
    },
    {
      "cell_type": "markdown",
      "source": [
        "# Submission\n",
        "Finally predict on the competition test data using the model."
      ],
      "metadata": {
        "papermill": {
          "duration": 0.016075,
          "end_time": "2023-03-07T06:22:14.482026",
          "exception": false,
          "start_time": "2023-03-07T06:22:14.465951",
          "status": "completed"
        },
        "tags": [],
        "id": "jM9uB_7T416r"
      }
    },
    {
      "cell_type": "code",
      "source": [
        "test_file_path = \"input/test.csv\"\n",
        "test_data = pd.read_csv(test_file_path)\n",
        "ids = test_data.pop('Id')\n",
        "\n",
        "test_ds = tfdf.keras.pd_dataframe_to_tf_dataset(\n",
        "    test_data,\n",
        "    task = tfdf.keras.Task.REGRESSION)\n",
        "\n",
        "preds = rf.predict(test_ds)\n",
        "output = pd.DataFrame({'Id': ids,\n",
        "                       'SalePrice': preds.squeeze()})\n",
        "\n",
        "output.head()\n"
      ],
      "metadata": {
        "papermill": {
          "duration": 1.717453,
          "end_time": "2023-03-07T06:22:16.215717",
          "exception": false,
          "start_time": "2023-03-07T06:22:14.498264",
          "status": "completed"
        },
        "tags": [],
        "id": "gLySv9yJ416s",
        "execution": {
          "iopub.status.busy": "2023-04-03T10:17:16.536967Z",
          "iopub.execute_input": "2023-04-03T10:17:16.537275Z",
          "iopub.status.idle": "2023-04-03T10:17:17.728149Z",
          "shell.execute_reply.started": "2023-04-03T10:17:16.537245Z",
          "shell.execute_reply": "2023-04-03T10:17:17.727075Z"
        },
        "trusted": true,
        "colab": {
          "base_uri": "https://localhost:8080/",
          "height": 225
        },
        "outputId": "72c0ded9-d35d-493f-e455-a30b0ea5b57e"
      },
      "execution_count": 23,
      "outputs": [
        {
          "output_type": "stream",
          "name": "stdout",
          "text": [
            "2/2 [==============================] - 2s 32ms/step\n"
          ]
        },
        {
          "output_type": "execute_result",
          "data": {
            "text/plain": [
              "     Id      SalePrice\n",
              "0  1461  127493.812500\n",
              "1  1462  155940.031250\n",
              "2  1463  181291.500000\n",
              "3  1464  186914.078125\n",
              "4  1465  196707.453125"
            ],
            "text/html": [
              "\n",
              "  <div id=\"df-12932493-9a3b-4e23-b3c2-0a345751b768\">\n",
              "    <div class=\"colab-df-container\">\n",
              "      <div>\n",
              "<style scoped>\n",
              "    .dataframe tbody tr th:only-of-type {\n",
              "        vertical-align: middle;\n",
              "    }\n",
              "\n",
              "    .dataframe tbody tr th {\n",
              "        vertical-align: top;\n",
              "    }\n",
              "\n",
              "    .dataframe thead th {\n",
              "        text-align: right;\n",
              "    }\n",
              "</style>\n",
              "<table border=\"1\" class=\"dataframe\">\n",
              "  <thead>\n",
              "    <tr style=\"text-align: right;\">\n",
              "      <th></th>\n",
              "      <th>Id</th>\n",
              "      <th>SalePrice</th>\n",
              "    </tr>\n",
              "  </thead>\n",
              "  <tbody>\n",
              "    <tr>\n",
              "      <th>0</th>\n",
              "      <td>1461</td>\n",
              "      <td>127493.812500</td>\n",
              "    </tr>\n",
              "    <tr>\n",
              "      <th>1</th>\n",
              "      <td>1462</td>\n",
              "      <td>155940.031250</td>\n",
              "    </tr>\n",
              "    <tr>\n",
              "      <th>2</th>\n",
              "      <td>1463</td>\n",
              "      <td>181291.500000</td>\n",
              "    </tr>\n",
              "    <tr>\n",
              "      <th>3</th>\n",
              "      <td>1464</td>\n",
              "      <td>186914.078125</td>\n",
              "    </tr>\n",
              "    <tr>\n",
              "      <th>4</th>\n",
              "      <td>1465</td>\n",
              "      <td>196707.453125</td>\n",
              "    </tr>\n",
              "  </tbody>\n",
              "</table>\n",
              "</div>\n",
              "      <button class=\"colab-df-convert\" onclick=\"convertToInteractive('df-12932493-9a3b-4e23-b3c2-0a345751b768')\"\n",
              "              title=\"Convert this dataframe to an interactive table.\"\n",
              "              style=\"display:none;\">\n",
              "        \n",
              "  <svg xmlns=\"http://www.w3.org/2000/svg\" height=\"24px\"viewBox=\"0 0 24 24\"\n",
              "       width=\"24px\">\n",
              "    <path d=\"M0 0h24v24H0V0z\" fill=\"none\"/>\n",
              "    <path d=\"M18.56 5.44l.94 2.06.94-2.06 2.06-.94-2.06-.94-.94-2.06-.94 2.06-2.06.94zm-11 1L8.5 8.5l.94-2.06 2.06-.94-2.06-.94L8.5 2.5l-.94 2.06-2.06.94zm10 10l.94 2.06.94-2.06 2.06-.94-2.06-.94-.94-2.06-.94 2.06-2.06.94z\"/><path d=\"M17.41 7.96l-1.37-1.37c-.4-.4-.92-.59-1.43-.59-.52 0-1.04.2-1.43.59L10.3 9.45l-7.72 7.72c-.78.78-.78 2.05 0 2.83L4 21.41c.39.39.9.59 1.41.59.51 0 1.02-.2 1.41-.59l7.78-7.78 2.81-2.81c.8-.78.8-2.07 0-2.86zM5.41 20L4 18.59l7.72-7.72 1.47 1.35L5.41 20z\"/>\n",
              "  </svg>\n",
              "      </button>\n",
              "      \n",
              "  <style>\n",
              "    .colab-df-container {\n",
              "      display:flex;\n",
              "      flex-wrap:wrap;\n",
              "      gap: 12px;\n",
              "    }\n",
              "\n",
              "    .colab-df-convert {\n",
              "      background-color: #E8F0FE;\n",
              "      border: none;\n",
              "      border-radius: 50%;\n",
              "      cursor: pointer;\n",
              "      display: none;\n",
              "      fill: #1967D2;\n",
              "      height: 32px;\n",
              "      padding: 0 0 0 0;\n",
              "      width: 32px;\n",
              "    }\n",
              "\n",
              "    .colab-df-convert:hover {\n",
              "      background-color: #E2EBFA;\n",
              "      box-shadow: 0px 1px 2px rgba(60, 64, 67, 0.3), 0px 1px 3px 1px rgba(60, 64, 67, 0.15);\n",
              "      fill: #174EA6;\n",
              "    }\n",
              "\n",
              "    [theme=dark] .colab-df-convert {\n",
              "      background-color: #3B4455;\n",
              "      fill: #D2E3FC;\n",
              "    }\n",
              "\n",
              "    [theme=dark] .colab-df-convert:hover {\n",
              "      background-color: #434B5C;\n",
              "      box-shadow: 0px 1px 3px 1px rgba(0, 0, 0, 0.15);\n",
              "      filter: drop-shadow(0px 1px 2px rgba(0, 0, 0, 0.3));\n",
              "      fill: #FFFFFF;\n",
              "    }\n",
              "  </style>\n",
              "\n",
              "      <script>\n",
              "        const buttonEl =\n",
              "          document.querySelector('#df-12932493-9a3b-4e23-b3c2-0a345751b768 button.colab-df-convert');\n",
              "        buttonEl.style.display =\n",
              "          google.colab.kernel.accessAllowed ? 'block' : 'none';\n",
              "\n",
              "        async function convertToInteractive(key) {\n",
              "          const element = document.querySelector('#df-12932493-9a3b-4e23-b3c2-0a345751b768');\n",
              "          const dataTable =\n",
              "            await google.colab.kernel.invokeFunction('convertToInteractive',\n",
              "                                                     [key], {});\n",
              "          if (!dataTable) return;\n",
              "\n",
              "          const docLinkHtml = 'Like what you see? Visit the ' +\n",
              "            '<a target=\"_blank\" href=https://colab.research.google.com/notebooks/data_table.ipynb>data table notebook</a>'\n",
              "            + ' to learn more about interactive tables.';\n",
              "          element.innerHTML = '';\n",
              "          dataTable['output_type'] = 'display_data';\n",
              "          await google.colab.output.renderOutput(dataTable, element);\n",
              "          const docLink = document.createElement('div');\n",
              "          docLink.innerHTML = docLinkHtml;\n",
              "          element.appendChild(docLink);\n",
              "        }\n",
              "      </script>\n",
              "    </div>\n",
              "  </div>\n",
              "  "
            ]
          },
          "metadata": {},
          "execution_count": 23
        }
      ]
    },
    {
      "cell_type": "code",
      "source": [
        "sample_submission_df = pd.read_csv('input/sample_submission.csv')\n",
        "sample_submission_df['SalePrice'] = rf.predict(test_ds)\n",
        "sample_submission_df.to_csv('input/submission.csv', index=False)\n",
        "sample_submission_df.head()"
      ],
      "metadata": {
        "papermill": {
          "duration": 0.839277,
          "end_time": "2023-03-07T06:22:17.072045",
          "exception": false,
          "start_time": "2023-03-07T06:22:16.232768",
          "status": "completed"
        },
        "tags": [],
        "id": "0wALPJtE416s",
        "execution": {
          "iopub.status.busy": "2023-04-03T10:17:17.729491Z",
          "iopub.execute_input": "2023-04-03T10:17:17.730610Z",
          "iopub.status.idle": "2023-04-03T10:17:18.088251Z",
          "shell.execute_reply.started": "2023-04-03T10:17:17.730573Z",
          "shell.execute_reply": "2023-04-03T10:17:18.086820Z"
        },
        "trusted": true,
        "colab": {
          "base_uri": "https://localhost:8080/",
          "height": 225
        },
        "outputId": "6addc335-5547-4bd9-9ff9-657d518b030a"
      },
      "execution_count": 24,
      "outputs": [
        {
          "output_type": "stream",
          "name": "stdout",
          "text": [
            "2/2 [==============================] - 1s 48ms/step\n"
          ]
        },
        {
          "output_type": "execute_result",
          "data": {
            "text/plain": [
              "     Id      SalePrice\n",
              "0  1461  127493.812500\n",
              "1  1462  155940.031250\n",
              "2  1463  181291.500000\n",
              "3  1464  186914.078125\n",
              "4  1465  196707.453125"
            ],
            "text/html": [
              "\n",
              "  <div id=\"df-b5900d32-ef91-4e8b-8f0d-5207a4a6de94\">\n",
              "    <div class=\"colab-df-container\">\n",
              "      <div>\n",
              "<style scoped>\n",
              "    .dataframe tbody tr th:only-of-type {\n",
              "        vertical-align: middle;\n",
              "    }\n",
              "\n",
              "    .dataframe tbody tr th {\n",
              "        vertical-align: top;\n",
              "    }\n",
              "\n",
              "    .dataframe thead th {\n",
              "        text-align: right;\n",
              "    }\n",
              "</style>\n",
              "<table border=\"1\" class=\"dataframe\">\n",
              "  <thead>\n",
              "    <tr style=\"text-align: right;\">\n",
              "      <th></th>\n",
              "      <th>Id</th>\n",
              "      <th>SalePrice</th>\n",
              "    </tr>\n",
              "  </thead>\n",
              "  <tbody>\n",
              "    <tr>\n",
              "      <th>0</th>\n",
              "      <td>1461</td>\n",
              "      <td>127493.812500</td>\n",
              "    </tr>\n",
              "    <tr>\n",
              "      <th>1</th>\n",
              "      <td>1462</td>\n",
              "      <td>155940.031250</td>\n",
              "    </tr>\n",
              "    <tr>\n",
              "      <th>2</th>\n",
              "      <td>1463</td>\n",
              "      <td>181291.500000</td>\n",
              "    </tr>\n",
              "    <tr>\n",
              "      <th>3</th>\n",
              "      <td>1464</td>\n",
              "      <td>186914.078125</td>\n",
              "    </tr>\n",
              "    <tr>\n",
              "      <th>4</th>\n",
              "      <td>1465</td>\n",
              "      <td>196707.453125</td>\n",
              "    </tr>\n",
              "  </tbody>\n",
              "</table>\n",
              "</div>\n",
              "      <button class=\"colab-df-convert\" onclick=\"convertToInteractive('df-b5900d32-ef91-4e8b-8f0d-5207a4a6de94')\"\n",
              "              title=\"Convert this dataframe to an interactive table.\"\n",
              "              style=\"display:none;\">\n",
              "        \n",
              "  <svg xmlns=\"http://www.w3.org/2000/svg\" height=\"24px\"viewBox=\"0 0 24 24\"\n",
              "       width=\"24px\">\n",
              "    <path d=\"M0 0h24v24H0V0z\" fill=\"none\"/>\n",
              "    <path d=\"M18.56 5.44l.94 2.06.94-2.06 2.06-.94-2.06-.94-.94-2.06-.94 2.06-2.06.94zm-11 1L8.5 8.5l.94-2.06 2.06-.94-2.06-.94L8.5 2.5l-.94 2.06-2.06.94zm10 10l.94 2.06.94-2.06 2.06-.94-2.06-.94-.94-2.06-.94 2.06-2.06.94z\"/><path d=\"M17.41 7.96l-1.37-1.37c-.4-.4-.92-.59-1.43-.59-.52 0-1.04.2-1.43.59L10.3 9.45l-7.72 7.72c-.78.78-.78 2.05 0 2.83L4 21.41c.39.39.9.59 1.41.59.51 0 1.02-.2 1.41-.59l7.78-7.78 2.81-2.81c.8-.78.8-2.07 0-2.86zM5.41 20L4 18.59l7.72-7.72 1.47 1.35L5.41 20z\"/>\n",
              "  </svg>\n",
              "      </button>\n",
              "      \n",
              "  <style>\n",
              "    .colab-df-container {\n",
              "      display:flex;\n",
              "      flex-wrap:wrap;\n",
              "      gap: 12px;\n",
              "    }\n",
              "\n",
              "    .colab-df-convert {\n",
              "      background-color: #E8F0FE;\n",
              "      border: none;\n",
              "      border-radius: 50%;\n",
              "      cursor: pointer;\n",
              "      display: none;\n",
              "      fill: #1967D2;\n",
              "      height: 32px;\n",
              "      padding: 0 0 0 0;\n",
              "      width: 32px;\n",
              "    }\n",
              "\n",
              "    .colab-df-convert:hover {\n",
              "      background-color: #E2EBFA;\n",
              "      box-shadow: 0px 1px 2px rgba(60, 64, 67, 0.3), 0px 1px 3px 1px rgba(60, 64, 67, 0.15);\n",
              "      fill: #174EA6;\n",
              "    }\n",
              "\n",
              "    [theme=dark] .colab-df-convert {\n",
              "      background-color: #3B4455;\n",
              "      fill: #D2E3FC;\n",
              "    }\n",
              "\n",
              "    [theme=dark] .colab-df-convert:hover {\n",
              "      background-color: #434B5C;\n",
              "      box-shadow: 0px 1px 3px 1px rgba(0, 0, 0, 0.15);\n",
              "      filter: drop-shadow(0px 1px 2px rgba(0, 0, 0, 0.3));\n",
              "      fill: #FFFFFF;\n",
              "    }\n",
              "  </style>\n",
              "\n",
              "      <script>\n",
              "        const buttonEl =\n",
              "          document.querySelector('#df-b5900d32-ef91-4e8b-8f0d-5207a4a6de94 button.colab-df-convert');\n",
              "        buttonEl.style.display =\n",
              "          google.colab.kernel.accessAllowed ? 'block' : 'none';\n",
              "\n",
              "        async function convertToInteractive(key) {\n",
              "          const element = document.querySelector('#df-b5900d32-ef91-4e8b-8f0d-5207a4a6de94');\n",
              "          const dataTable =\n",
              "            await google.colab.kernel.invokeFunction('convertToInteractive',\n",
              "                                                     [key], {});\n",
              "          if (!dataTable) return;\n",
              "\n",
              "          const docLinkHtml = 'Like what you see? Visit the ' +\n",
              "            '<a target=\"_blank\" href=https://colab.research.google.com/notebooks/data_table.ipynb>data table notebook</a>'\n",
              "            + ' to learn more about interactive tables.';\n",
              "          element.innerHTML = '';\n",
              "          dataTable['output_type'] = 'display_data';\n",
              "          await google.colab.output.renderOutput(dataTable, element);\n",
              "          const docLink = document.createElement('div');\n",
              "          docLink.innerHTML = docLinkHtml;\n",
              "          element.appendChild(docLink);\n",
              "        }\n",
              "      </script>\n",
              "    </div>\n",
              "  </div>\n",
              "  "
            ]
          },
          "metadata": {},
          "execution_count": 24
        }
      ]
    }
  ]
}